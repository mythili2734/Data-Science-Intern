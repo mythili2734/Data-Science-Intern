{
 "cells": [
  {
   "cell_type": "code",
   "execution_count": 3,
   "id": "7fe0506b-11e8-4bfb-8de5-800c4373c786",
   "metadata": {},
   "outputs": [
    {
     "name": "stdout",
     "output_type": "stream",
     "text": [
      "[100, 400, 92416, 2500, 3600]\n"
     ]
    }
   ],
   "source": [
    "list_1=[10,20,304,50,60]\n",
    "#square the given number present inside the list and give the squared number output in the list format.\n",
    "list_outputs=[]\n",
    "for i in list_1:\n",
    "    z=i**2\n",
    "    list_outputs.append(z)\n",
    "\n",
    "print(list_outputs)"
   ]
  },
  {
   "cell_type": "markdown",
   "id": "124dc17a-5cdd-43c9-a6ae-d8213ea66f6c",
   "metadata": {},
   "source": [
    "# Compreshion \n",
    "compreshion in python is a concise way to create a new list or dict based on the existing iterable object."
   ]
  },
  {
   "cell_type": "markdown",
   "id": "6eb54d15-bc95-4091-b32d-5d8c7168d3fb",
   "metadata": {},
   "source": [
    "# list compreshion with out conditional statements:\n",
    "\n",
    "syntax:\n",
    "\n",
    "list_comp=[output for temp_var in iterable]"
   ]
  },
  {
   "cell_type": "code",
   "execution_count": 4,
   "id": "895a0308-9dd8-445a-860a-0a3442691488",
   "metadata": {},
   "outputs": [
    {
     "name": "stdout",
     "output_type": "stream",
     "text": [
      "[0, 1, 2, 3, 4, 5, 6, 7, 8, 9]\n"
     ]
    }
   ],
   "source": [
    "#example:\n",
    "\n",
    "#n=10 natural numbers inside the list.\n",
    "\n",
    "list_natural=[i for i in range(10) ]\n",
    "print(list_natural)"
   ]
  },
  {
   "cell_type": "code",
   "execution_count": 6,
   "id": "9ee033a2-cd31-45d5-8be4-a9262c89f2a9",
   "metadata": {},
   "outputs": [
    {
     "name": "stdout",
     "output_type": "stream",
     "text": [
      "[0, 1, 2, 3, 4, 5, 6, 7, 8, 9]\n"
     ]
    }
   ],
   "source": [
    "list_n=[]\n",
    "for i in range(10):\n",
    "    list_n.append(i)\n",
    "print(list_n)"
   ]
  },
  {
   "cell_type": "markdown",
   "id": "de439230-6642-4814-adb7-741825689276",
   "metadata": {},
   "source": [
    "# list compreshion with conditional statements if w/o else:\n",
    "\n",
    "syntax:\n",
    "\n",
    "var=[output for i in iterable if condition]"
   ]
  },
  {
   "cell_type": "code",
   "execution_count": 7,
   "id": "b6cfb655-3d06-445a-867a-a1e7fd71d49f",
   "metadata": {},
   "outputs": [
    {
     "name": "stdout",
     "output_type": "stream",
     "text": [
      "[0, 2, 4, 6, 8, 10, 12]\n"
     ]
    }
   ],
   "source": [
    "#pick up the n=12 natural numbers and print only even numbers inside the list:\n",
    "\n",
    "list_even=[i for i in range(13) if i%2==0]\n",
    "print(list_even)"
   ]
  },
  {
   "cell_type": "markdown",
   "id": "f68413b4-f180-4cca-8b03-9289320ee0a9",
   "metadata": {},
   "source": [
    "# list_compreshion with conditional statements if with else:"
   ]
  },
  {
   "cell_type": "markdown",
   "id": "702a0843-7aa4-4033-8fce-0ff3d0755107",
   "metadata": {},
   "source": [
    "# syntax\n",
    "var_1=[output if condition else output for i in iterable]"
   ]
  },
  {
   "cell_type": "code",
   "execution_count": 1,
   "id": "eba70ec6-2d88-43e2-9646-b26feb8dd616",
   "metadata": {},
   "outputs": [
    {
     "data": {
      "text/plain": [
       "['odd',\n",
       " 'even',\n",
       " 'odd',\n",
       " 'even',\n",
       " 'odd',\n",
       " 'even',\n",
       " 'odd',\n",
       " 'even',\n",
       " 'odd',\n",
       " 'even',\n",
       " 'odd',\n",
       " 'even']"
      ]
     },
     "execution_count": 1,
     "metadata": {},
     "output_type": "execute_result"
    }
   ],
   "source": [
    "#print even in the place of even numbers and write odd in place of odd numbers inside the list:\n",
    "\n",
    "list_if_else=[\"even\" if i%2==0 else \"odd\" for i in range(1,13)]\n",
    "list_if_else"
   ]
  },
  {
   "cell_type": "code",
   "execution_count": 3,
   "id": "bcf820db-4b57-4a40-b6ca-cfdc8d643477",
   "metadata": {},
   "outputs": [
    {
     "data": {
      "text/plain": [
       "['yes', 'yes', 'apple', 'dragon fruit']"
      ]
     },
     "execution_count": 3,
     "metadata": {},
     "output_type": "execute_result"
    }
   ],
   "source": [
    "#check if the last alphabet of the str present inside the list is \"a\" are not\n",
    "#if \"a\" print yes\n",
    "#if not ending with \"a\" then print that str.\n",
    "\n",
    "list_str=[\"banana\",\"guava\",\"apple\",\"dragon fruit\"]\n",
    "\n",
    "practice=[\"yes\"if i[-1]==\"a\" else i for i in list_str]\n",
    "practice\n"
   ]
  },
  {
   "cell_type": "code",
   "execution_count": 6,
   "id": "ca0be042-2b12-4ab5-9527-bcfaeb3a6bdc",
   "metadata": {},
   "outputs": [
    {
     "data": {
      "text/plain": [
       "[4, 12, 40, 25, 48]"
      ]
     },
     "execution_count": 6,
     "metadata": {},
     "output_type": "execute_result"
    }
   ],
   "source": [
    "#you are having two lists perform the product of respective index position of those list\n",
    "\n",
    "list_1=[2,3,4,5,6]\n",
    "list_2=[2,4,10,5,8]\n",
    "\n",
    "result=[i*j for i,j in zip(list_1,list_2)]\n",
    "result"
   ]
  },
  {
   "cell_type": "code",
   "execution_count": 12,
   "id": "eb784343-f800-4eec-99b3-08d9ec3e3e70",
   "metadata": {},
   "outputs": [
    {
     "name": "stdout",
     "output_type": "stream",
     "text": [
      "[4, 12, 40, 25, 48]\n"
     ]
    }
   ],
   "source": [
    "list_1=[2,3,4,5,6]\n",
    "list_2=[2,4,10,5,8]\n",
    "list_product=[]\n",
    "\n",
    "for i,j in zip(list_1,list_2):\n",
    "     list_product.append(i*j)\n",
    "print(list_product)"
   ]
  },
  {
   "cell_type": "markdown",
   "id": "c13cfa61-1dce-4db2-ac6e-3aa7bdb04f36",
   "metadata": {},
   "source": [
    "# Dict comprehensions"
   ]
  },
  {
   "cell_type": "code",
   "execution_count": 16,
   "id": "1cd41464-8474-4538-ade4-faaffc4e9cbe",
   "metadata": {},
   "outputs": [
    {
     "name": "stdout",
     "output_type": "stream",
     "text": [
      "{2: 4, 3: 9, 4: 16, 5: 25, 6: 36}\n"
     ]
    }
   ],
   "source": [
    "#creation of dict w/o comprehension:\n",
    "\n",
    "list_1=[2,3,4,5,6]\n",
    "\n",
    "#o/p=(2:4,3:9,4:16,5:25,6:36)\n",
    "\n",
    "dict_ans={}\n",
    "for i in list_1:\n",
    "    dict_ans[i]=i**2\n",
    "print(dict_ans)\n"
   ]
  },
  {
   "cell_type": "markdown",
   "id": "ae644045-cadc-407a-bc4f-db08929d90d5",
   "metadata": {},
   "source": [
    "# syntax \n",
    "\n",
    "var_2={i:i**2 for i in iterable}\n",
    "      #key:value"
   ]
  },
  {
   "cell_type": "code",
   "execution_count": 18,
   "id": "d0fe10a2-fceb-4e6a-ab62-42042c9d18bf",
   "metadata": {},
   "outputs": [
    {
     "data": {
      "text/plain": [
       "{2: 4, 3: 9, 4: 16, 5: 25, 6: 36}"
      ]
     },
     "execution_count": 18,
     "metadata": {},
     "output_type": "execute_result"
    }
   ],
   "source": [
    "dict_var={i:i**2 for i in list_1}\n",
    "dict_var"
   ]
  },
  {
   "cell_type": "markdown",
   "id": "35d274e0-82a3-4f38-b237-5695736ac400",
   "metadata": {},
   "source": [
    "# dict comprehension for if w/o else:\n",
    "\n",
    "#syntax\n",
    "\n",
    "dict_name={output for i in iterable if condition}\n"
   ]
  },
  {
   "cell_type": "markdown",
   "id": "676a011f-28e7-44df-8ad8-8516c1b5bb9e",
   "metadata": {},
   "source": [
    "# dict comprehension for if with else:\n",
    "\n",
    "syntax:\n",
    "\n",
    "dict_name={output_true if condition else output_false for i in iterable}\n"
   ]
  },
  {
   "cell_type": "markdown",
   "id": "e8717fab-be50-498e-af47-5d9244594268",
   "metadata": {},
   "source": [
    "### given the list print the word of the list as the key of the dict and the last alphabet of the word as value inside the dict:\n"
   ]
  },
  {
   "cell_type": "code",
   "execution_count": 19,
   "id": "2235d8b7-dda4-4e44-8c45-e852ac6aec55",
   "metadata": {},
   "outputs": [],
   "source": [
    "list_given=[\"Badmintion\",\"basketball\",\"Kho-kho\",\"Dancing\"]\n",
    "\n",
    "dict_alpha={i:i[-1] for i in list_given}"
   ]
  },
  {
   "cell_type": "code",
   "execution_count": 20,
   "id": "6ac2ff17-c412-4b3c-8a68-9e4216915d22",
   "metadata": {},
   "outputs": [
    {
     "data": {
      "text/plain": [
       "{'Badmintion': 'n', 'basketball': 'l', 'Kho-kho': 'o', 'Dancing': 'g'}"
      ]
     },
     "execution_count": 20,
     "metadata": {},
     "output_type": "execute_result"
    }
   ],
   "source": [
    "dict_alpha"
   ]
  },
  {
   "cell_type": "markdown",
   "id": "1c5cdc7d-048f-45aa-b2d9-399462bc04d3",
   "metadata": {},
   "source": [
    "## Pick n natural number and place that inside a list, after that find the numbers which are less than 5 and perform the cube of that number and place the number as the key in dict and cube as the value it."
   ]
  },
  {
   "cell_type": "code",
   "execution_count": 2,
   "id": "588b3aa0-0280-4189-bf8a-8cc7514da562",
   "metadata": {},
   "outputs": [
    {
     "name": "stdin",
     "output_type": "stream",
     "text": [
      "ENTER THE VALUE OF n: 9\n"
     ]
    },
    {
     "name": "stdout",
     "output_type": "stream",
     "text": [
      "[0, 1, 2, 3, 4, 5, 6, 7, 8, 9]\n",
      "{0: 0, 1: 1, 2: 8, 3: 27, 4: 64}\n"
     ]
    }
   ],
   "source": [
    "n=int(input(\"ENTER THE VALUE OF n:\"))\n",
    "\n",
    "list_natural=[i for i in range(n+1)]\n",
    "print(list_natural)\n",
    "\n",
    "dict_cube={i:i**3 for i in list_natural if i<5}\n",
    "print(dict_cube)"
   ]
  },
  {
   "cell_type": "code",
   "execution_count": null,
   "id": "c0b7b946-8522-4373-b2ae-e84000e76f33",
   "metadata": {},
   "outputs": [],
   "source": []
  },
  {
   "cell_type": "code",
   "execution_count": null,
   "id": "fc8aab7e-b077-410c-95cf-2187b1b67bc2",
   "metadata": {},
   "outputs": [],
   "source": []
  }
 ],
 "metadata": {
  "kernelspec": {
   "display_name": "Python 3 (ipykernel)",
   "language": "python",
   "name": "python3"
  },
  "language_info": {
   "codemirror_mode": {
    "name": "ipython",
    "version": 3
   },
   "file_extension": ".py",
   "mimetype": "text/x-python",
   "name": "python",
   "nbconvert_exporter": "python",
   "pygments_lexer": "ipython3",
   "version": "3.11.7"
  }
 },
 "nbformat": 4,
 "nbformat_minor": 5
}
