{
 "cells": [
  {
   "cell_type": "markdown",
   "id": "2fdca093-07d4-4802-bf7d-b31687fb7ee9",
   "metadata": {},
   "source": [
    "# Cell"
   ]
  },
  {
   "cell_type": "markdown",
   "id": "0e5adc9d-1aac-4ed7-a822-2cace0f7ba41",
   "metadata": {},
   "source": [
    "Hello this id day 1 of python"
   ]
  },
  {
   "cell_type": "code",
   "execution_count": 3,
   "id": "db01a0ee-7cff-4e99-8be5-457d38d3b074",
   "metadata": {},
   "outputs": [
    {
     "name": "stdout",
     "output_type": "stream",
     "text": [
      "Hello World\n"
     ]
    }
   ],
   "source": [
    "print(\"Hello World\")"
   ]
  },
  {
   "cell_type": "raw",
   "id": "a554c32e-eabe-459e-b90c-768fc790f1f9",
   "metadata": {},
   "source": [
    "I want my notebook raw"
   ]
  },
  {
   "cell_type": "markdown",
   "id": "3e3fe07c-a1a7-45e3-ae7b-c4a40ade243e",
   "metadata": {},
   "source": [
    " "
   ]
  },
  {
   "cell_type": "markdown",
   "id": "52810191-8536-4056-8b0a-f5776251c93c",
   "metadata": {},
   "source": [
    "Python is programming language which is high level language and general purpose in nature. Python is an interpreted language.\n",
    "The current version of python is 3.11\n",
    "we are writing python program in jupyter notebook which is the part of anacondaa navigator.\n",
    "We are going to write information of codes in the cells of jupyter notebook which comes up with diff modes.\n",
    "Python is case sensitive in nature.\n"
   ]
  },
  {
   "cell_type": "markdown",
   "id": "5a2ab2a9-e8ed-4216-b2dc-fcab72067629",
   "metadata": {},
   "source": [
    "# Keywords and Identifiers:"
   ]
  },
  {
   "cell_type": "markdown",
   "id": "7f99c6c0-0f9f-40bc-bc85-077ca43fd967",
   "metadata": {},
   "source": [
    "## Keywords:"
   ]
  },
  {
   "cell_type": "markdown",
   "id": "53756799-f9aa-4137-a1c9-b86b6f3d8438",
   "metadata": {},
   "source": [
    "Keywords are some reserved words in python. Overall we have 36 keywords."
   ]
  },
  {
   "cell_type": "markdown",
   "id": "80bcacf9-35e3-473e-82b1-d6499d16e602",
   "metadata": {},
   "source": [
    "def, import, True, False"
   ]
  },
  {
   "cell_type": "code",
   "execution_count": 3,
   "id": "6bc39200-f5d9-4527-a74f-879c61bb51c3",
   "metadata": {},
   "outputs": [
    {
     "name": "stdout",
     "output_type": "stream",
     "text": [
      "Welcome to Python 3.11's help utility! If this is your first time using\n",
      "Python, you should definitely check out the tutorial at\n",
      "https://docs.python.org/3.11/tutorial/.\n",
      "\n",
      "Enter the name of any module, keyword, or topic to get help on writing\n",
      "Python programs and using Python modules.  To get a list of available\n",
      "modules, keywords, symbols, or topics, enter \"modules\", \"keywords\",\n",
      "\"symbols\", or \"topics\".\n",
      "\n",
      "Each module also comes with a one-line summary of what it does; to list\n",
      "the modules whose name or summary contain a given string such as \"spam\",\n",
      "enter \"modules spam\".\n",
      "\n",
      "To quit this help utility and return to the interpreter,\n",
      "enter \"q\" or \"quit\".\n",
      "\n",
      "\n",
      "You are now leaving help and returning to the Python interpreter.\n",
      "If you want to ask for help on a particular object directly from the\n",
      "interpreter, you can type \"help(object)\".  Executing \"help('string')\"\n",
      "has the same effect as typing a particular string at the help> prompt.\n"
     ]
    }
   ],
   "source": [
    "help()"
   ]
  },
  {
   "cell_type": "markdown",
   "id": "121eef2b-e06f-4e4e-a4f4-1629e610ba94",
   "metadata": {},
   "source": [
    "# Identifiers:"
   ]
  },
  {
   "cell_type": "markdown",
   "id": "d7df867c-8794-41ff-af9f-cabc1b277a47",
   "metadata": {},
   "source": [
    "Identifiers are those words which helps user to assign specific meaning to it and these are not rserved or built in.\n",
    "we have some rules to declare identifiers.\n",
    "1. we cannot use keywords as identifiers.\n",
    "2. identifiers always start with an alphabet or _followed with any combination of alphabet and numbers.\n",
    "3. we cannot use any special charcter as the identifier. @*$#^&()\n"
   ]
  },
  {
   "cell_type": "code",
   "execution_count": 2,
   "id": "f20004f8-b62b-42e3-b335-58b3a6458fcc",
   "metadata": {},
   "outputs": [],
   "source": [
    "Mythu_27=88"
   ]
  },
  {
   "cell_type": "markdown",
   "id": "99b9f00b-062a-4cc1-bfb7-117913aab1f9",
   "metadata": {},
   "source": [
    "# Data Types:"
   ]
  },
  {
   "cell_type": "raw",
   "id": "955f9cf3-3f55-4a31-b86b-e12d6b364370",
   "metadata": {},
   "source": [
    "Python has several builtin data types, each data type has its own set of properties, methods and behaviour.\n",
    "\n",
    "Primitive Data type:\n",
    "   Homogenous in nature and have tendency to store 1 variable/identifier 1 value.\n",
    "\n",
    "Non Primitive Data type:\n",
    "   Non homogenous in nature and have a tendency to store 1 variable/identifier multiple values."
   ]
  },
  {
   "cell_type": "markdown",
   "id": "5bda1ebb-8dcf-4eac-a12a-6f3163bac140",
   "metadata": {},
   "source": [
    "#int\n",
    "any number coming between the range of +infinity to -infinity we are going to call that as int and it should be a whole number.\n"
   ]
  },
  {
   "cell_type": "code",
   "execution_count": 5,
   "id": "c7072bcf-d8c0-46a2-b226-0baa23dae91a",
   "metadata": {},
   "outputs": [
    {
     "name": "stdout",
     "output_type": "stream",
     "text": [
      "50\n"
     ]
    }
   ],
   "source": [
    "int_1=50\n",
    "print(int_1)"
   ]
  },
  {
   "cell_type": "code",
   "execution_count": 6,
   "id": "3871a919-5390-44f4-be3d-516dc6c5f9e5",
   "metadata": {},
   "outputs": [
    {
     "name": "stdout",
     "output_type": "stream",
     "text": [
      "<class 'int'>\n"
     ]
    }
   ],
   "source": [
    "print(type(int_1))"
   ]
  },
  {
   "cell_type": "code",
   "execution_count": 7,
   "id": "efcab789-786f-4fe3-b4dd-2bf2fa37811b",
   "metadata": {},
   "outputs": [
    {
     "data": {
      "text/plain": [
       "int"
      ]
     },
     "execution_count": 7,
     "metadata": {},
     "output_type": "execute_result"
    }
   ],
   "source": [
    "int_2=99\n",
    "type(int_2)"
   ]
  },
  {
   "cell_type": "raw",
   "id": "029301f8-ca22-4f04-8218-5e483be781a0",
   "metadata": {},
   "source": [
    "# Float:\n",
    "any number coming between the range of +infinity to -infinity we are going to call that as int and it should be a decimal number."
   ]
  },
  {
   "cell_type": "markdown",
   "id": "0572fc16-d6d5-4baa-af23-5c3eef30837e",
   "metadata": {},
   "source": [
    "float_3=99.6\n",
    "print(float_3)"
   ]
  },
  {
   "cell_type": "code",
   "execution_count": 41,
   "id": "b3909e76-cad0-470b-abf5-5008601d92cb",
   "metadata": {},
   "outputs": [
    {
     "data": {
      "text/plain": [
       "float"
      ]
     },
     "execution_count": 41,
     "metadata": {},
     "output_type": "execute_result"
    }
   ],
   "source": [
    "float_3=99.9\n",
    "type(float_3)"
   ]
  },
  {
   "cell_type": "raw",
   "id": "ded12574-774a-4e9e-9fc7-26514244f2d1",
   "metadata": {},
   "source": [
    "# String:\n",
    " Any combination of character that we are going to declare inside single or double inverted coma are considered as strings.\n"
   ]
  },
  {
   "cell_type": "code",
   "execution_count": 44,
   "id": "e4837a55-d5d3-4fc3-b3cc-3f4e8809c8b4",
   "metadata": {},
   "outputs": [
    {
     "name": "stdout",
     "output_type": "stream",
     "text": [
      "Hey today is 2nd day of python.\n"
     ]
    }
   ],
   "source": [
    "str1=\"Hey today is 2nd day of python.\"\n",
    "print(str1)"
   ]
  },
  {
   "cell_type": "raw",
   "id": "32ab018b-5e0c-44ea-a4d8-f89fae08beba",
   "metadata": {},
   "source": [
    "# Boolean\n",
    "if something is in boolean format the output will be either True or False"
   ]
  },
  {
   "cell_type": "code",
   "execution_count": 47,
   "id": "6ffa64fe-f8be-40e6-9457-a591abafe454",
   "metadata": {},
   "outputs": [
    {
     "data": {
      "text/plain": [
       "bool"
      ]
     },
     "execution_count": 47,
     "metadata": {},
     "output_type": "execute_result"
    }
   ],
   "source": [
    "x=True\n",
    "type(x)"
   ]
  },
  {
   "cell_type": "markdown",
   "id": "a421b00f-5e1e-40cf-91c1-629d180b5921",
   "metadata": {},
   "source": [
    "#Complex\n",
    "2+3i"
   ]
  },
  {
   "cell_type": "code",
   "execution_count": 48,
   "id": "ec5f0fc1-bef4-4d1d-8c77-5256d08a7b9b",
   "metadata": {},
   "outputs": [
    {
     "name": "stdout",
     "output_type": "stream",
     "text": [
      "(2+3j)\n"
     ]
    }
   ],
   "source": [
    "comp=complex(2,3)\n",
    "print(comp)"
   ]
  },
  {
   "cell_type": "code",
   "execution_count": 49,
   "id": "89deb7a1-1196-4685-83d4-6b37fdc192d3",
   "metadata": {},
   "outputs": [
    {
     "data": {
      "text/plain": [
       "2.0"
      ]
     },
     "execution_count": 49,
     "metadata": {},
     "output_type": "execute_result"
    }
   ],
   "source": [
    "comp.real"
   ]
  },
  {
   "cell_type": "code",
   "execution_count": 50,
   "id": "c1614981-2ffa-4d8d-881b-50f3936964a4",
   "metadata": {},
   "outputs": [
    {
     "data": {
      "text/plain": [
       "3.0"
      ]
     },
     "execution_count": 50,
     "metadata": {},
     "output_type": "execute_result"
    }
   ],
   "source": [
    "comp.imag\n"
   ]
  },
  {
   "cell_type": "code",
   "execution_count": 51,
   "id": "6cc06e1f-a400-48a0-8a9e-f04d8edb9717",
   "metadata": {},
   "outputs": [
    {
     "data": {
      "text/plain": [
       "NoneType"
      ]
     },
     "execution_count": 51,
     "metadata": {},
     "output_type": "execute_result"
    }
   ],
   "source": [
    "#none\n",
    "var1=None\n",
    "type(var1)"
   ]
  },
  {
   "cell_type": "markdown",
   "id": "e372fea1-86a5-4af6-85d1-955fea27573d",
   "metadata": {},
   "source": [
    "# Non Primitive Data Types:"
   ]
  },
  {
   "cell_type": "code",
   "execution_count": 55,
   "id": "46200890-2567-4a41-a5ae-30cb5a617dfb",
   "metadata": {},
   "outputs": [
    {
     "name": "stdout",
     "output_type": "stream",
     "text": [
      "[27, 3.9, 'String', True]\n"
     ]
    }
   ],
   "source": [
    "#lists:\n",
    "#what all data types i can declare inside this square bracket.\n",
    "\n",
    "#how many elemenets I can declare inside the list.\n",
    "   #there is no limit \n",
    "\n",
    "list_1=[27,3.9,\"String\",True]\n",
    "print(list_1)"
   ]
  },
  {
   "cell_type": "code",
   "execution_count": 56,
   "id": "ce5bbcab-a322-4184-aed1-0271c052a875",
   "metadata": {},
   "outputs": [
    {
     "data": {
      "text/plain": [
       "list"
      ]
     },
     "execution_count": 56,
     "metadata": {},
     "output_type": "execute_result"
    }
   ],
   "source": [
    "type(list_1)"
   ]
  },
  {
   "cell_type": "code",
   "execution_count": 57,
   "id": "d6571844-b0f0-49b4-82d0-31ffc2f45b6e",
   "metadata": {},
   "outputs": [
    {
     "name": "stdout",
     "output_type": "stream",
     "text": [
      "609\n"
     ]
    }
   ],
   "source": [
    "list_num=[10,306,55,609,806,80]\n",
    "print(list_num[3])"
   ]
  },
  {
   "cell_type": "code",
   "execution_count": 58,
   "id": "08ea7d84-1f73-45a5-a44f-f8a65f4e9309",
   "metadata": {},
   "outputs": [
    {
     "data": {
      "text/plain": [
       "10"
      ]
     },
     "execution_count": 58,
     "metadata": {},
     "output_type": "execute_result"
    }
   ],
   "source": [
    "list_num[0]"
   ]
  },
  {
   "cell_type": "code",
   "execution_count": 59,
   "id": "4f6f6f60-eb3f-4fd6-8b72-4548553b10e8",
   "metadata": {},
   "outputs": [
    {
     "data": {
      "text/plain": [
       "'xyz'"
      ]
     },
     "execution_count": 59,
     "metadata": {},
     "output_type": "execute_result"
    }
   ],
   "source": [
    "list_large=[1,1,2,2,5,6,7,5,4,\"apple\",9,3,5,4,3,2,2,\"xyz\"]\n",
    "list_large[-1]"
   ]
  },
  {
   "cell_type": "code",
   "execution_count": 60,
   "id": "b7b7dae2-f0ad-4606-9704-c52115f244da",
   "metadata": {},
   "outputs": [
    {
     "data": {
      "text/plain": [
       "40"
      ]
     },
     "execution_count": 60,
     "metadata": {},
     "output_type": "execute_result"
    }
   ],
   "source": [
    "#nested_list:\n",
    "\n",
    "list_nest=[10,20,30,40,50,[\"apple\",\"banana\",\"guava\",\"papaya\"],99]\n",
    "list_nest[3]"
   ]
  },
  {
   "cell_type": "code",
   "execution_count": 61,
   "id": "5e4c4703-0252-4814-a5ae-264d8951ddbd",
   "metadata": {},
   "outputs": [
    {
     "data": {
      "text/plain": [
       "'banana'"
      ]
     },
     "execution_count": 61,
     "metadata": {},
     "output_type": "execute_result"
    }
   ],
   "source": [
    "list_nest[-2][1]"
   ]
  },
  {
   "cell_type": "code",
   "execution_count": 62,
   "id": "32852e7e-452d-4371-a9fa-175d795c3932",
   "metadata": {},
   "outputs": [
    {
     "data": {
      "text/plain": [
       "'guava'"
      ]
     },
     "execution_count": 62,
     "metadata": {},
     "output_type": "execute_result"
    }
   ],
   "source": [
    "#HW\n",
    "#try to extract \"guava\" from list_nest.\n",
    "\n",
    "list_nest[-2][-2]"
   ]
  },
  {
   "cell_type": "code",
   "execution_count": 63,
   "id": "f58caa96-2211-40d7-ae20-47b1a4a74bf7",
   "metadata": {},
   "outputs": [
    {
     "data": {
      "text/plain": [
       "'guava'"
      ]
     },
     "execution_count": 63,
     "metadata": {},
     "output_type": "execute_result"
    }
   ],
   "source": [
    "list_nest[5][2]"
   ]
  },
  {
   "cell_type": "code",
   "execution_count": 64,
   "id": "21da2e7d-bdaf-4f38-94a9-f87c256456de",
   "metadata": {},
   "outputs": [
    {
     "name": "stdout",
     "output_type": "stream",
     "text": [
      "Help on class list in module builtins:\n",
      "\n",
      "class list(object)\n",
      " |  list(iterable=(), /)\n",
      " |  \n",
      " |  Built-in mutable sequence.\n",
      " |  \n",
      " |  If no argument is given, the constructor creates a new empty list.\n",
      " |  The argument must be an iterable if specified.\n",
      " |  \n",
      " |  Methods defined here:\n",
      " |  \n",
      " |  __add__(self, value, /)\n",
      " |      Return self+value.\n",
      " |  \n",
      " |  __contains__(self, key, /)\n",
      " |      Return key in self.\n",
      " |  \n",
      " |  __delitem__(self, key, /)\n",
      " |      Delete self[key].\n",
      " |  \n",
      " |  __eq__(self, value, /)\n",
      " |      Return self==value.\n",
      " |  \n",
      " |  __ge__(self, value, /)\n",
      " |      Return self>=value.\n",
      " |  \n",
      " |  __getattribute__(self, name, /)\n",
      " |      Return getattr(self, name).\n",
      " |  \n",
      " |  __getitem__(...)\n",
      " |      x.__getitem__(y) <==> x[y]\n",
      " |  \n",
      " |  __gt__(self, value, /)\n",
      " |      Return self>value.\n",
      " |  \n",
      " |  __iadd__(self, value, /)\n",
      " |      Implement self+=value.\n",
      " |  \n",
      " |  __imul__(self, value, /)\n",
      " |      Implement self*=value.\n",
      " |  \n",
      " |  __init__(self, /, *args, **kwargs)\n",
      " |      Initialize self.  See help(type(self)) for accurate signature.\n",
      " |  \n",
      " |  __iter__(self, /)\n",
      " |      Implement iter(self).\n",
      " |  \n",
      " |  __le__(self, value, /)\n",
      " |      Return self<=value.\n",
      " |  \n",
      " |  __len__(self, /)\n",
      " |      Return len(self).\n",
      " |  \n",
      " |  __lt__(self, value, /)\n",
      " |      Return self<value.\n",
      " |  \n",
      " |  __mul__(self, value, /)\n",
      " |      Return self*value.\n",
      " |  \n",
      " |  __ne__(self, value, /)\n",
      " |      Return self!=value.\n",
      " |  \n",
      " |  __repr__(self, /)\n",
      " |      Return repr(self).\n",
      " |  \n",
      " |  __reversed__(self, /)\n",
      " |      Return a reverse iterator over the list.\n",
      " |  \n",
      " |  __rmul__(self, value, /)\n",
      " |      Return value*self.\n",
      " |  \n",
      " |  __setitem__(self, key, value, /)\n",
      " |      Set self[key] to value.\n",
      " |  \n",
      " |  __sizeof__(self, /)\n",
      " |      Return the size of the list in memory, in bytes.\n",
      " |  \n",
      " |  append(self, object, /)\n",
      " |      Append object to the end of the list.\n",
      " |  \n",
      " |  clear(self, /)\n",
      " |      Remove all items from list.\n",
      " |  \n",
      " |  copy(self, /)\n",
      " |      Return a shallow copy of the list.\n",
      " |  \n",
      " |  count(self, value, /)\n",
      " |      Return number of occurrences of value.\n",
      " |  \n",
      " |  extend(self, iterable, /)\n",
      " |      Extend list by appending elements from the iterable.\n",
      " |  \n",
      " |  index(self, value, start=0, stop=9223372036854775807, /)\n",
      " |      Return first index of value.\n",
      " |      \n",
      " |      Raises ValueError if the value is not present.\n",
      " |  \n",
      " |  insert(self, index, object, /)\n",
      " |      Insert object before index.\n",
      " |  \n",
      " |  pop(self, index=-1, /)\n",
      " |      Remove and return item at index (default last).\n",
      " |      \n",
      " |      Raises IndexError if list is empty or index is out of range.\n",
      " |  \n",
      " |  remove(self, value, /)\n",
      " |      Remove first occurrence of value.\n",
      " |      \n",
      " |      Raises ValueError if the value is not present.\n",
      " |  \n",
      " |  reverse(self, /)\n",
      " |      Reverse *IN PLACE*.\n",
      " |  \n",
      " |  sort(self, /, *, key=None, reverse=False)\n",
      " |      Sort the list in ascending order and return None.\n",
      " |      \n",
      " |      The sort is in-place (i.e. the list itself is modified) and stable (i.e. the\n",
      " |      order of two equal elements is maintained).\n",
      " |      \n",
      " |      If a key function is given, apply it once to each list item and sort them,\n",
      " |      ascending or descending, according to their function values.\n",
      " |      \n",
      " |      The reverse flag can be set to sort in descending order.\n",
      " |  \n",
      " |  ----------------------------------------------------------------------\n",
      " |  Class methods defined here:\n",
      " |  \n",
      " |  __class_getitem__(...) from builtins.type\n",
      " |      See PEP 585\n",
      " |  \n",
      " |  ----------------------------------------------------------------------\n",
      " |  Static methods defined here:\n",
      " |  \n",
      " |  __new__(*args, **kwargs) from builtins.type\n",
      " |      Create and return a new object.  See help(type) for accurate signature.\n",
      " |  \n",
      " |  ----------------------------------------------------------------------\n",
      " |  Data and other attributes defined here:\n",
      " |  \n",
      " |  __hash__ = None\n",
      "\n"
     ]
    }
   ],
   "source": [
    "help(list)"
   ]
  },
  {
   "cell_type": "raw",
   "id": "9b43ec73-049f-4e5a-a15c-ca3f1956335e",
   "metadata": {},
   "source": [
    "#list\n",
    "it is built in data type and follows indexing.\n",
    "Indexing works in both forward and backwards direction.\n",
    "forward indexing starts with 0 where as backward indexing always starts with -1."
   ]
  },
  {
   "cell_type": "code",
   "execution_count": 66,
   "id": "6f456611-5262-4efc-aa3c-343710b704c4",
   "metadata": {},
   "outputs": [
    {
     "name": "stdout",
     "output_type": "stream",
     "text": [
      "[27, 3.9, 'String', True, 'apple']\n"
     ]
    }
   ],
   "source": [
    "#methods for ths list:\n",
    "\n",
    "#append\n",
    "\n",
    "#what is I want to add one element by the end of the list, if the list is already declared.\n",
    "list_1=[27,3.9,\"String\",True]\n",
    "list_1.append(\"apple\")\n",
    "print(list_1)"
   ]
  },
  {
   "cell_type": "code",
   "execution_count": 67,
   "id": "62662588-4647-4445-ab65-a2d37fb967f0",
   "metadata": {},
   "outputs": [],
   "source": [
    "#extend\n",
    "#i want to add multiple elements by the end of the list\n",
    "\n",
    "list_1.extend([\"banana\",\"red\"])"
   ]
  },
  {
   "cell_type": "code",
   "execution_count": 68,
   "id": "8f928f8c-8e84-41ab-a3c9-440b1833cc55",
   "metadata": {},
   "outputs": [
    {
     "name": "stdout",
     "output_type": "stream",
     "text": [
      "[27, 3.9, 'String', True, 'apple', 'banana', 'red']\n"
     ]
    }
   ],
   "source": [
    "print(list_1)"
   ]
  },
  {
   "cell_type": "code",
   "execution_count": 69,
   "id": "79ac160a-5339-4855-9234-815a8f1e5352",
   "metadata": {},
   "outputs": [],
   "source": [
    "#insert\n",
    "#add element at some respective position inside the list.\n",
    "list_1.insert(3,\"new\")"
   ]
  },
  {
   "cell_type": "code",
   "execution_count": 70,
   "id": "a9bce2b7-d993-4f0c-af24-7276a6a2e3d2",
   "metadata": {},
   "outputs": [
    {
     "data": {
      "text/plain": [
       "[27, 3.9, 'String', 'new', True, 'apple', 'banana', 'red']"
      ]
     },
     "execution_count": 70,
     "metadata": {},
     "output_type": "execute_result"
    }
   ],
   "source": [
    "list_1"
   ]
  },
  {
   "cell_type": "code",
   "execution_count": 71,
   "id": "e97dabf1-5921-4fab-9123-fa12c08120f4",
   "metadata": {},
   "outputs": [
    {
     "data": {
      "text/plain": [
       "'red'"
      ]
     },
     "execution_count": 71,
     "metadata": {},
     "output_type": "execute_result"
    }
   ],
   "source": [
    "#pop\n",
    "#delete element from the last of the list.\n",
    "list_1.pop()"
   ]
  },
  {
   "cell_type": "code",
   "execution_count": 72,
   "id": "5add322a-e5b1-4a73-b4ac-2a700b402ea9",
   "metadata": {},
   "outputs": [
    {
     "name": "stdout",
     "output_type": "stream",
     "text": [
      "[27, 3.9, 'String', 'new', True, 'apple', 'banana']\n"
     ]
    }
   ],
   "source": [
    "print(list_1)"
   ]
  },
  {
   "cell_type": "code",
   "execution_count": 73,
   "id": "a3e92df0-039e-405a-9a4c-3dd8d4cf42cc",
   "metadata": {},
   "outputs": [
    {
     "data": {
      "text/plain": [
       "'String'"
      ]
     },
     "execution_count": 73,
     "metadata": {},
     "output_type": "execute_result"
    }
   ],
   "source": [
    "#delete something from the desired position.\n",
    "list_1.pop(2)"
   ]
  },
  {
   "cell_type": "code",
   "execution_count": 74,
   "id": "346b6180-63cc-4f90-b992-f745ca2b4550",
   "metadata": {},
   "outputs": [
    {
     "name": "stdout",
     "output_type": "stream",
     "text": [
      "[27, 3.9, 'new', True, 'apple', 'banana']\n"
     ]
    }
   ],
   "source": [
    "print(list_1)"
   ]
  },
  {
   "cell_type": "code",
   "execution_count": 75,
   "id": "35f5dacb-a608-4a0e-bc3a-3deec1a9f3e8",
   "metadata": {},
   "outputs": [],
   "source": [
    "#remove\n",
    "#when we want to delete the element from the list.\n",
    "list_1.remove(\"apple\")"
   ]
  },
  {
   "cell_type": "code",
   "execution_count": 76,
   "id": "575830f0-b4d3-4202-ad0f-6b3336f1c88a",
   "metadata": {},
   "outputs": [
    {
     "name": "stdout",
     "output_type": "stream",
     "text": [
      "[27, 3.9, 'new', True, 'banana']\n"
     ]
    }
   ],
   "source": [
    "print(list_1)"
   ]
  },
  {
   "cell_type": "code",
   "execution_count": 77,
   "id": "8e130181-b9aa-446f-8b8e-bbb904079e25",
   "metadata": {},
   "outputs": [
    {
     "data": {
      "text/plain": [
       "2"
      ]
     },
     "execution_count": 77,
     "metadata": {},
     "output_type": "execute_result"
    }
   ],
   "source": [
    "#index\n",
    "#identify the index position of some element present inside the list.\n",
    "list_1.index(\"new\")"
   ]
  },
  {
   "cell_type": "code",
   "execution_count": 78,
   "id": "f34985e2-8cc3-4e37-a414-cda81b513c68",
   "metadata": {},
   "outputs": [],
   "source": [
    "#clear\n",
    "#we want to delete all the elements from the list but keep the identity of the list intact.\n",
    "list_1.clear()"
   ]
  },
  {
   "cell_type": "code",
   "execution_count": 79,
   "id": "8020ece7-97d9-4d1a-b069-915470e73a90",
   "metadata": {},
   "outputs": [
    {
     "data": {
      "text/plain": [
       "[]"
      ]
     },
     "execution_count": 79,
     "metadata": {},
     "output_type": "execute_result"
    }
   ],
   "source": [
    "list_1"
   ]
  },
  {
   "cell_type": "code",
   "execution_count": 80,
   "id": "564a5d64-b8ca-4ee7-b7e5-620f8cdb00ef",
   "metadata": {},
   "outputs": [
    {
     "name": "stdout",
     "output_type": "stream",
     "text": [
      "[1, 1, 2, 2, 5, 6, 7, 5, 4, 'apple', 9, 3, 5, 4, 3, 2, 2, 'xyz']\n"
     ]
    }
   ],
   "source": [
    "print(list_large)"
   ]
  },
  {
   "cell_type": "code",
   "execution_count": 81,
   "id": "3046b702-d3cb-4c1d-a24e-0a6da5ccd5a8",
   "metadata": {},
   "outputs": [],
   "source": [
    "#copy\n",
    "#create a copy of all the elements present inside list_range.\n",
    "copied_list=list_large.copy()"
   ]
  },
  {
   "cell_type": "code",
   "execution_count": 82,
   "id": "7d2960a4-fec8-47df-bffc-67c49fdb2837",
   "metadata": {},
   "outputs": [
    {
     "name": "stdout",
     "output_type": "stream",
     "text": [
      "[1, 1, 2, 2, 5, 6, 7, 5, 4, 'apple', 9, 3, 5, 4, 3, 2, 2, 'xyz']\n"
     ]
    }
   ],
   "source": [
    "print(copied_list)"
   ]
  },
  {
   "cell_type": "code",
   "execution_count": 83,
   "id": "19d4596a-e5a0-4041-b9be-44df5e9e5da0",
   "metadata": {},
   "outputs": [],
   "source": [
    "#sort\n",
    "#it works in both ascending nd descending order.\n",
    "list_num=[0,11,22,13,56,2,4,3]\n",
    "list_num.sort()\n"
   ]
  },
  {
   "cell_type": "code",
   "execution_count": 84,
   "id": "fa9f8c3d-6c1e-4a38-ba5b-9329583e8dec",
   "metadata": {},
   "outputs": [
    {
     "data": {
      "text/plain": [
       "[0, 2, 3, 4, 11, 13, 22, 56]"
      ]
     },
     "execution_count": 84,
     "metadata": {},
     "output_type": "execute_result"
    }
   ],
   "source": [
    "list_num"
   ]
  },
  {
   "cell_type": "code",
   "execution_count": 85,
   "id": "b15aaa7b-eb1b-4675-9eaf-8041bf0bff47",
   "metadata": {},
   "outputs": [],
   "source": [
    "list_str=[\"basketball\",\"apple\",\"banana\",\"cat\"]\n",
    "list_str.sort(reverse=True)"
   ]
  },
  {
   "cell_type": "code",
   "execution_count": 86,
   "id": "e1ecabbf-8338-41d1-9321-c6524115699c",
   "metadata": {},
   "outputs": [
    {
     "data": {
      "text/plain": [
       "['cat', 'basketball', 'banana', 'apple']"
      ]
     },
     "execution_count": 86,
     "metadata": {},
     "output_type": "execute_result"
    }
   ],
   "source": [
    "list_str"
   ]
  },
  {
   "cell_type": "code",
   "execution_count": 87,
   "id": "a1349338-7671-4c3b-b38c-fce100e9cd23",
   "metadata": {},
   "outputs": [],
   "source": [
    "#reverse\n",
    "list_str.reverse()"
   ]
  },
  {
   "cell_type": "code",
   "execution_count": 88,
   "id": "9a7ca730-9157-47ae-bf56-5576de20b2b3",
   "metadata": {},
   "outputs": [
    {
     "data": {
      "text/plain": [
       "['apple', 'banana', 'basketball', 'cat']"
      ]
     },
     "execution_count": 88,
     "metadata": {},
     "output_type": "execute_result"
    }
   ],
   "source": [
    "list_str"
   ]
  },
  {
   "cell_type": "markdown",
   "id": "610d0909-78c0-4f12-b8e8-34bad0f5cf2c",
   "metadata": {},
   "source": [
    "# Tuple:"
   ]
  },
  {
   "cell_type": "code",
   "execution_count": 89,
   "id": "390c29e1-2473-467a-8f03-cda717963ac7",
   "metadata": {},
   "outputs": [
    {
     "name": "stdout",
     "output_type": "stream",
     "text": [
      "(10, 22, 209, 77, 65, 11)\n"
     ]
    }
   ],
   "source": [
    "tuple_x=(10,22,209,77,65,11)\n",
    "print(tuple_x)"
   ]
  },
  {
   "cell_type": "code",
   "execution_count": 90,
   "id": "f9d2504b-0ad6-4541-b7a6-2bb571319439",
   "metadata": {},
   "outputs": [
    {
     "data": {
      "text/plain": [
       "(10, 22, 209, 77, 65, 11)"
      ]
     },
     "execution_count": 90,
     "metadata": {},
     "output_type": "execute_result"
    }
   ],
   "source": [
    "tuple_x"
   ]
  },
  {
   "cell_type": "code",
   "execution_count": 91,
   "id": "f2937db1-6f58-4e62-ae11-23ee3dbe5a9e",
   "metadata": {},
   "outputs": [
    {
     "data": {
      "text/plain": [
       "tuple"
      ]
     },
     "execution_count": 91,
     "metadata": {},
     "output_type": "execute_result"
    }
   ],
   "source": [
    "type(tuple_x)"
   ]
  },
  {
   "cell_type": "code",
   "execution_count": 92,
   "id": "59b81f2c-fa83-4d9e-82dd-e3cae2a7f374",
   "metadata": {},
   "outputs": [
    {
     "data": {
      "text/plain": [
       "'red'"
      ]
     },
     "execution_count": 92,
     "metadata": {},
     "output_type": "execute_result"
    }
   ],
   "source": [
    "#what all data types are supported inside the list?\n",
    "tuple_data=(27,3.0,\"red\",True,None,[12,4,3,7])\n",
    "tuple_data[2]"
   ]
  },
  {
   "cell_type": "markdown",
   "id": "10218a2d-bb64-4670-b9d6-33e97b3f16ba",
   "metadata": {},
   "source": [
    "tuple is a type of non primitive data type and follows almost same properties to as that of list but also contain some major differnces.\n",
    "we can also declare all types of data inside the tuple and it also follows indexing.\n"
   ]
  },
  {
   "cell_type": "code",
   "execution_count": 96,
   "id": "1a33ac74-7edf-4561-ab3c-eadb4b5c04e8",
   "metadata": {},
   "outputs": [
    {
     "data": {
      "text/plain": [
       "(22, 33, 77)"
      ]
     },
     "execution_count": 96,
     "metadata": {},
     "output_type": "execute_result"
    }
   ],
   "source": [
    "tuple=(10,22,33,77,99)\n",
    "tuple[1:4]"
   ]
  },
  {
   "cell_type": "code",
   "execution_count": 97,
   "id": "88981330-e36a-48c9-9c69-68bc9752c0ba",
   "metadata": {},
   "outputs": [
    {
     "name": "stdout",
     "output_type": "stream",
     "text": [
      "(10, 222, 30, 88.7, 'red', 'apple')\n"
     ]
    }
   ],
   "source": [
    "tuple_2=10,222,30,88.7,\"red\",\"apple\"\n",
    "print(tuple_2)"
   ]
  },
  {
   "cell_type": "code",
   "execution_count": 98,
   "id": "e486872c-d0e4-4687-b192-a43bde314c41",
   "metadata": {},
   "outputs": [
    {
     "data": {
      "text/plain": [
       "(222, 30, 88.7, 'red')"
      ]
     },
     "execution_count": 98,
     "metadata": {},
     "output_type": "execute_result"
    }
   ],
   "source": [
    "#forward slicing\n",
    "tuple_2[1:5]"
   ]
  },
  {
   "cell_type": "code",
   "execution_count": 99,
   "id": "d736e59f-f462-4b9a-8036-bbc2dca81ce2",
   "metadata": {},
   "outputs": [
    {
     "data": {
      "text/plain": [
       "(10, 222, 30)"
      ]
     },
     "execution_count": 99,
     "metadata": {},
     "output_type": "execute_result"
    }
   ],
   "source": [
    "tuple_2[0:3]"
   ]
  },
  {
   "cell_type": "code",
   "execution_count": 100,
   "id": "3a809cfc-b6eb-40e8-811b-c6aac366a5b4",
   "metadata": {},
   "outputs": [
    {
     "data": {
      "text/plain": [
       "(10, 222, 30)"
      ]
     },
     "execution_count": 100,
     "metadata": {},
     "output_type": "execute_result"
    }
   ],
   "source": [
    "tuple_2[:3]"
   ]
  },
  {
   "cell_type": "code",
   "execution_count": 101,
   "id": "216cbdf2-a785-42d3-bd2d-10a1d281cae6",
   "metadata": {},
   "outputs": [
    {
     "data": {
      "text/plain": [
       "(88.7, 'red', 'apple')"
      ]
     },
     "execution_count": 101,
     "metadata": {},
     "output_type": "execute_result"
    }
   ],
   "source": [
    "tuple_2[3:6]"
   ]
  },
  {
   "cell_type": "code",
   "execution_count": 102,
   "id": "c6f804d6-2599-47e2-ba77-bda25619d904",
   "metadata": {},
   "outputs": [
    {
     "data": {
      "text/plain": [
       "(88.7, 'red', 'apple')"
      ]
     },
     "execution_count": 102,
     "metadata": {},
     "output_type": "execute_result"
    }
   ],
   "source": [
    "tuple_2[3:]"
   ]
  },
  {
   "cell_type": "code",
   "execution_count": 103,
   "id": "15e4a25b-f11a-4f3d-9a30-1ed8025c3216",
   "metadata": {},
   "outputs": [
    {
     "data": {
      "text/plain": [
       "(88.7, 'red', 'apple')"
      ]
     },
     "execution_count": 103,
     "metadata": {},
     "output_type": "execute_result"
    }
   ],
   "source": [
    "#backward slicing\n",
    "tuple_2[-3:]"
   ]
  },
  {
   "cell_type": "code",
   "execution_count": 104,
   "id": "9b670b9f-9714-4882-9cdc-2a75bcdfa837",
   "metadata": {},
   "outputs": [
    {
     "data": {
      "text/plain": [
       "(222, 30, 88.7, 'red')"
      ]
     },
     "execution_count": 104,
     "metadata": {},
     "output_type": "execute_result"
    }
   ],
   "source": [
    "tuple_2[-5:-1]"
   ]
  },
  {
   "cell_type": "code",
   "execution_count": 105,
   "id": "ac52260c-fd3b-45ec-adf6-32f078e54acc",
   "metadata": {},
   "outputs": [],
   "source": [
    "#nested tuples:\n",
    "a=(10,209,33,22,34,57,79,22,(398,98,33,27,67,21),90,64,78)"
   ]
  },
  {
   "cell_type": "code",
   "execution_count": 106,
   "id": "408c3589-679e-4f38-a177-4a115ad51d6f",
   "metadata": {},
   "outputs": [
    {
     "name": "stdout",
     "output_type": "stream",
     "text": [
      "Help on tuple object:\n",
      "\n",
      "class tuple(object)\n",
      " |  tuple(iterable=(), /)\n",
      " |  \n",
      " |  Built-in immutable sequence.\n",
      " |  \n",
      " |  If no argument is given, the constructor returns an empty tuple.\n",
      " |  If iterable is specified the tuple is initialized from iterable's items.\n",
      " |  \n",
      " |  If the argument is a tuple, the return value is the same object.\n",
      " |  \n",
      " |  Built-in subclasses:\n",
      " |      asyncgen_hooks\n",
      " |      UnraisableHookArgs\n",
      " |  \n",
      " |  Methods defined here:\n",
      " |  \n",
      " |  __add__(self, value, /)\n",
      " |      Return self+value.\n",
      " |  \n",
      " |  __contains__(self, key, /)\n",
      " |      Return key in self.\n",
      " |  \n",
      " |  __eq__(self, value, /)\n",
      " |      Return self==value.\n",
      " |  \n",
      " |  __ge__(self, value, /)\n",
      " |      Return self>=value.\n",
      " |  \n",
      " |  __getattribute__(self, name, /)\n",
      " |      Return getattr(self, name).\n",
      " |  \n",
      " |  __getitem__(self, key, /)\n",
      " |      Return self[key].\n",
      " |  \n",
      " |  __getnewargs__(self, /)\n",
      " |  \n",
      " |  __gt__(self, value, /)\n",
      " |      Return self>value.\n",
      " |  \n",
      " |  __hash__(self, /)\n",
      " |      Return hash(self).\n",
      " |  \n",
      " |  __iter__(self, /)\n",
      " |      Implement iter(self).\n",
      " |  \n",
      " |  __le__(self, value, /)\n",
      " |      Return self<=value.\n",
      " |  \n",
      " |  __len__(self, /)\n",
      " |      Return len(self).\n",
      " |  \n",
      " |  __lt__(self, value, /)\n",
      " |      Return self<value.\n",
      " |  \n",
      " |  __mul__(self, value, /)\n",
      " |      Return self*value.\n",
      " |  \n",
      " |  __ne__(self, value, /)\n",
      " |      Return self!=value.\n",
      " |  \n",
      " |  __repr__(self, /)\n",
      " |      Return repr(self).\n",
      " |  \n",
      " |  __rmul__(self, value, /)\n",
      " |      Return value*self.\n",
      " |  \n",
      " |  count(self, value, /)\n",
      " |      Return number of occurrences of value.\n",
      " |  \n",
      " |  index(self, value, start=0, stop=9223372036854775807, /)\n",
      " |      Return first index of value.\n",
      " |      \n",
      " |      Raises ValueError if the value is not present.\n",
      " |  \n",
      " |  ----------------------------------------------------------------------\n",
      " |  Class methods defined here:\n",
      " |  \n",
      " |  __class_getitem__(...) from builtins.type\n",
      " |      See PEP 585\n",
      " |  \n",
      " |  ----------------------------------------------------------------------\n",
      " |  Static methods defined here:\n",
      " |  \n",
      " |  __new__(*args, **kwargs) from builtins.type\n",
      " |      Create and return a new object.  See help(type) for accurate signature.\n",
      "\n"
     ]
    }
   ],
   "source": [
    "help(tuple)"
   ]
  },
  {
   "cell_type": "code",
   "execution_count": 107,
   "id": "85ac5825-c276-4044-9c38-bc6c07995917",
   "metadata": {},
   "outputs": [
    {
     "data": {
      "text/plain": [
       "2"
      ]
     },
     "execution_count": 107,
     "metadata": {},
     "output_type": "execute_result"
    }
   ],
   "source": [
    "#count\n",
    "#how many time 22 appeared in the a\n",
    "a.count(22)"
   ]
  },
  {
   "cell_type": "code",
   "execution_count": 108,
   "id": "11ca3005-3ac8-413c-9cff-351dc4f9a5ea",
   "metadata": {},
   "outputs": [
    {
     "data": {
      "text/plain": [
       "(10, 209, 33, 22, 34, 57, 79, 22, (398, 98, 33, 27, 67, 21), 90, 64, 78)"
      ]
     },
     "execution_count": 108,
     "metadata": {},
     "output_type": "execute_result"
    }
   ],
   "source": [
    "a"
   ]
  },
  {
   "cell_type": "code",
   "execution_count": 109,
   "id": "81eeefc9-f9b5-4fbb-95dd-d27eaf861ce3",
   "metadata": {},
   "outputs": [
    {
     "data": {
      "text/plain": [
       "3"
      ]
     },
     "execution_count": 109,
     "metadata": {},
     "output_type": "execute_result"
    }
   ],
   "source": [
    "#how to identify the index position of an element?\n",
    "a.index(22)"
   ]
  },
  {
   "cell_type": "code",
   "execution_count": 110,
   "id": "71777492-d4e5-42a9-b72f-1d66f972af3b",
   "metadata": {},
   "outputs": [],
   "source": [
    "list_check=[10,20,30,40,50]  \n",
    "tuple_check=(10,20,30,40,50) \n",
    "\n",
    "list_check[2]=300"
   ]
  },
  {
   "cell_type": "code",
   "execution_count": 111,
   "id": "e1096c08-528e-4dc5-8090-da5814185ab8",
   "metadata": {},
   "outputs": [
    {
     "data": {
      "text/plain": [
       "[10, 20, 300, 40, 50]"
      ]
     },
     "execution_count": 111,
     "metadata": {},
     "output_type": "execute_result"
    }
   ],
   "source": [
    "list_check"
   ]
  },
  {
   "cell_type": "code",
   "execution_count": 112,
   "id": "2377238c-8974-43c9-a8b0-94b5ea62866d",
   "metadata": {},
   "outputs": [
    {
     "data": {
      "text/plain": [
       "(10, 20, 30, 40, 50)"
      ]
     },
     "execution_count": 112,
     "metadata": {},
     "output_type": "execute_result"
    }
   ],
   "source": [
    "tuple_check"
   ]
  },
  {
   "cell_type": "code",
   "execution_count": 113,
   "id": "4a4e223a-db7c-4217-b65d-ff33ebfea327",
   "metadata": {},
   "outputs": [
    {
     "ename": "TypeError",
     "evalue": "'tuple' object does not support item assignment",
     "output_type": "error",
     "traceback": [
      "\u001b[1;31m---------------------------------------------------------------------------\u001b[0m",
      "\u001b[1;31mTypeError\u001b[0m                                 Traceback (most recent call last)",
      "Cell \u001b[1;32mIn[113], line 1\u001b[0m\n\u001b[1;32m----> 1\u001b[0m tuple_check[\u001b[38;5;241m2\u001b[39m]\u001b[38;5;241m=\u001b[39m\u001b[38;5;241m300\u001b[39m\n\u001b[0;32m      2\u001b[0m tuple_check\n",
      "\u001b[1;31mTypeError\u001b[0m: 'tuple' object does not support item assignment"
     ]
    }
   ],
   "source": [
    "tuple_check[2]=300\n",
    "tuple_check"
   ]
  },
  {
   "cell_type": "code",
   "execution_count": 114,
   "id": "de3ae14d-2b86-4978-a5f1-81e03e04c3b0",
   "metadata": {},
   "outputs": [
    {
     "data": {
      "text/plain": [
       "(10, 30, 80)"
      ]
     },
     "execution_count": 114,
     "metadata": {},
     "output_type": "execute_result"
    }
   ],
   "source": [
    "#how we can reverse a tuple? is it possible?\n",
    "#yes, it is possible by using slicing operation\n",
    "\n",
    "tuple=(10,20,30,40,80)\n",
    "tuple[0: :2]"
   ]
  },
  {
   "cell_type": "code",
   "execution_count": 115,
   "id": "4b6e6c5e-4052-44f3-a76b-8680219da828",
   "metadata": {},
   "outputs": [
    {
     "data": {
      "text/plain": [
       "(44, 33, 32)"
      ]
     },
     "execution_count": 115,
     "metadata": {},
     "output_type": "execute_result"
    }
   ],
   "source": [
    "tuple=(22,32,33,44,55,6,67,2)\n",
    "tuple[-5:-8:-1] "
   ]
  },
  {
   "cell_type": "code",
   "execution_count": 116,
   "id": "fc89658f-4b22-4207-84b0-9d12981869c8",
   "metadata": {},
   "outputs": [
    {
     "data": {
      "text/plain": [
       "(2, 67, 6, 55, 44, 33, 32, 22)"
      ]
     },
     "execution_count": 116,
     "metadata": {},
     "output_type": "execute_result"
    }
   ],
   "source": [
    "tuple[ : :-1] #reversing a tuple"
   ]
  },
  {
   "cell_type": "markdown",
   "id": "ac14f048-cf1f-4f88-a618-c6c233592802",
   "metadata": {},
   "source": [
    "# Sets:"
   ]
  },
  {
   "cell_type": "code",
   "execution_count": 117,
   "id": "dfa26ef8-b787-4be7-8aaa-642be02745c3",
   "metadata": {},
   "outputs": [
    {
     "name": "stdout",
     "output_type": "stream",
     "text": [
      "{40, 10, 20, 30}\n"
     ]
    }
   ],
   "source": [
    "set_1={10,20,30,10,30,40}\n",
    "print(set_1)"
   ]
  },
  {
   "cell_type": "code",
   "execution_count": 118,
   "id": "607e2bc4-a507-4a66-8987-eb32986475e0",
   "metadata": {},
   "outputs": [],
   "source": [
    "#mutability factor of sets:\n",
    "set_1={102,30,209,70,80,\"apple\",\"abc\",\"xyz\"}\n",
    "set_1.add(50)  #adding the elements"
   ]
  },
  {
   "cell_type": "code",
   "execution_count": 119,
   "id": "594ec794-a2ab-46a9-b777-31d6b688bc61",
   "metadata": {},
   "outputs": [
    {
     "data": {
      "text/plain": [
       "{102, 209, 30, 50, 70, 80, 'abc', 'apple', 'xyz'}"
      ]
     },
     "execution_count": 119,
     "metadata": {},
     "output_type": "execute_result"
    }
   ],
   "source": [
    "set_1"
   ]
  },
  {
   "cell_type": "code",
   "execution_count": 120,
   "id": "25fce96b-0486-4ca7-81ab-ab98020cceff",
   "metadata": {},
   "outputs": [],
   "source": [
    "#mutability factor of set:\n",
    "set_1={109,290,33,78,\"apple\",\"red\"}\n",
    "set_1.add(27)"
   ]
  },
  {
   "cell_type": "code",
   "execution_count": 121,
   "id": "15b165b6-8813-41c2-a3fa-809ca30999fc",
   "metadata": {},
   "outputs": [
    {
     "data": {
      "text/plain": [
       "{109, 27, 290, 33, 78, 'apple', 'red'}"
      ]
     },
     "execution_count": 121,
     "metadata": {},
     "output_type": "execute_result"
    }
   ],
   "source": [
    "set_1"
   ]
  },
  {
   "cell_type": "code",
   "execution_count": 122,
   "id": "1e47aef4-a266-4def-8cc1-834423660019",
   "metadata": {},
   "outputs": [
    {
     "name": "stdout",
     "output_type": "stream",
     "text": [
      "Help on set object:\n",
      "\n",
      "class set(object)\n",
      " |  set() -> new empty set object\n",
      " |  set(iterable) -> new set object\n",
      " |  \n",
      " |  Build an unordered collection of unique elements.\n",
      " |  \n",
      " |  Methods defined here:\n",
      " |  \n",
      " |  __and__(self, value, /)\n",
      " |      Return self&value.\n",
      " |  \n",
      " |  __contains__(...)\n",
      " |      x.__contains__(y) <==> y in x.\n",
      " |  \n",
      " |  __eq__(self, value, /)\n",
      " |      Return self==value.\n",
      " |  \n",
      " |  __ge__(self, value, /)\n",
      " |      Return self>=value.\n",
      " |  \n",
      " |  __getattribute__(self, name, /)\n",
      " |      Return getattr(self, name).\n",
      " |  \n",
      " |  __gt__(self, value, /)\n",
      " |      Return self>value.\n",
      " |  \n",
      " |  __iand__(self, value, /)\n",
      " |      Return self&=value.\n",
      " |  \n",
      " |  __init__(self, /, *args, **kwargs)\n",
      " |      Initialize self.  See help(type(self)) for accurate signature.\n",
      " |  \n",
      " |  __ior__(self, value, /)\n",
      " |      Return self|=value.\n",
      " |  \n",
      " |  __isub__(self, value, /)\n",
      " |      Return self-=value.\n",
      " |  \n",
      " |  __iter__(self, /)\n",
      " |      Implement iter(self).\n",
      " |  \n",
      " |  __ixor__(self, value, /)\n",
      " |      Return self^=value.\n",
      " |  \n",
      " |  __le__(self, value, /)\n",
      " |      Return self<=value.\n",
      " |  \n",
      " |  __len__(self, /)\n",
      " |      Return len(self).\n",
      " |  \n",
      " |  __lt__(self, value, /)\n",
      " |      Return self<value.\n",
      " |  \n",
      " |  __ne__(self, value, /)\n",
      " |      Return self!=value.\n",
      " |  \n",
      " |  __or__(self, value, /)\n",
      " |      Return self|value.\n",
      " |  \n",
      " |  __rand__(self, value, /)\n",
      " |      Return value&self.\n",
      " |  \n",
      " |  __reduce__(...)\n",
      " |      Return state information for pickling.\n",
      " |  \n",
      " |  __repr__(self, /)\n",
      " |      Return repr(self).\n",
      " |  \n",
      " |  __ror__(self, value, /)\n",
      " |      Return value|self.\n",
      " |  \n",
      " |  __rsub__(self, value, /)\n",
      " |      Return value-self.\n",
      " |  \n",
      " |  __rxor__(self, value, /)\n",
      " |      Return value^self.\n",
      " |  \n",
      " |  __sizeof__(...)\n",
      " |      S.__sizeof__() -> size of S in memory, in bytes\n",
      " |  \n",
      " |  __sub__(self, value, /)\n",
      " |      Return self-value.\n",
      " |  \n",
      " |  __xor__(self, value, /)\n",
      " |      Return self^value.\n",
      " |  \n",
      " |  add(...)\n",
      " |      Add an element to a set.\n",
      " |      \n",
      " |      This has no effect if the element is already present.\n",
      " |  \n",
      " |  clear(...)\n",
      " |      Remove all elements from this set.\n",
      " |  \n",
      " |  copy(...)\n",
      " |      Return a shallow copy of a set.\n",
      " |  \n",
      " |  difference(...)\n",
      " |      Return the difference of two or more sets as a new set.\n",
      " |      \n",
      " |      (i.e. all elements that are in this set but not the others.)\n",
      " |  \n",
      " |  difference_update(...)\n",
      " |      Remove all elements of another set from this set.\n",
      " |  \n",
      " |  discard(...)\n",
      " |      Remove an element from a set if it is a member.\n",
      " |      \n",
      " |      Unlike set.remove(), the discard() method does not raise\n",
      " |      an exception when an element is missing from the set.\n",
      " |  \n",
      " |  intersection(...)\n",
      " |      Return the intersection of two sets as a new set.\n",
      " |      \n",
      " |      (i.e. all elements that are in both sets.)\n",
      " |  \n",
      " |  intersection_update(...)\n",
      " |      Update a set with the intersection of itself and another.\n",
      " |  \n",
      " |  isdisjoint(...)\n",
      " |      Return True if two sets have a null intersection.\n",
      " |  \n",
      " |  issubset(...)\n",
      " |      Report whether another set contains this set.\n",
      " |  \n",
      " |  issuperset(...)\n",
      " |      Report whether this set contains another set.\n",
      " |  \n",
      " |  pop(...)\n",
      " |      Remove and return an arbitrary set element.\n",
      " |      Raises KeyError if the set is empty.\n",
      " |  \n",
      " |  remove(...)\n",
      " |      Remove an element from a set; it must be a member.\n",
      " |      \n",
      " |      If the element is not a member, raise a KeyError.\n",
      " |  \n",
      " |  symmetric_difference(...)\n",
      " |      Return the symmetric difference of two sets as a new set.\n",
      " |      \n",
      " |      (i.e. all elements that are in exactly one of the sets.)\n",
      " |  \n",
      " |  symmetric_difference_update(...)\n",
      " |      Update a set with the symmetric difference of itself and another.\n",
      " |  \n",
      " |  union(...)\n",
      " |      Return the union of sets as a new set.\n",
      " |      \n",
      " |      (i.e. all elements that are in either set.)\n",
      " |  \n",
      " |  update(...)\n",
      " |      Update a set with the union of itself and others.\n",
      " |  \n",
      " |  ----------------------------------------------------------------------\n",
      " |  Class methods defined here:\n",
      " |  \n",
      " |  __class_getitem__(...) from builtins.type\n",
      " |      See PEP 585\n",
      " |  \n",
      " |  ----------------------------------------------------------------------\n",
      " |  Static methods defined here:\n",
      " |  \n",
      " |  __new__(*args, **kwargs) from builtins.type\n",
      " |      Create and return a new object.  See help(type) for accurate signature.\n",
      " |  \n",
      " |  ----------------------------------------------------------------------\n",
      " |  Data and other attributes defined here:\n",
      " |  \n",
      " |  __hash__ = None\n",
      "\n"
     ]
    }
   ],
   "source": [
    "help(set_1)"
   ]
  },
  {
   "cell_type": "code",
   "execution_count": 128,
   "id": "189f5ece-806d-42a9-a19d-b67cf1fe9c71",
   "metadata": {},
   "outputs": [],
   "source": [
    "#how to merge different data types\n",
    "list_1=[1,2,3,4]\n",
    "list_2=[99,77,19,87]"
   ]
  },
  {
   "cell_type": "code",
   "execution_count": 129,
   "id": "a5899989-b062-451b-91c7-9b290d3c02bc",
   "metadata": {},
   "outputs": [
    {
     "data": {
      "text/plain": [
       "[1, 2, 3, 4, 99, 77, 19, 87]"
      ]
     },
     "execution_count": 129,
     "metadata": {},
     "output_type": "execute_result"
    }
   ],
   "source": [
    "list_1+list_2"
   ]
  },
  {
   "cell_type": "code",
   "execution_count": 130,
   "id": "9f17f67f-6ea2-4b22-b01b-7da738a9ad9e",
   "metadata": {},
   "outputs": [
    {
     "data": {
      "text/plain": [
       "(109, 29, 78, 97, 287, 785, 22, 17)"
      ]
     },
     "execution_count": 130,
     "metadata": {},
     "output_type": "execute_result"
    }
   ],
   "source": [
    "tuple_1=(109,29,78,97)\n",
    "tuple_2=(287,785,22,17)\n",
    "tuple_1+tuple_2"
   ]
  },
  {
   "cell_type": "code",
   "execution_count": 131,
   "id": "d78da08f-353a-4b57-a658-20b72cb596ff",
   "metadata": {},
   "outputs": [
    {
     "data": {
      "text/plain": [
       "{109, 27, 290, 33, 78, 'apple', 'red'}"
      ]
     },
     "execution_count": 131,
     "metadata": {},
     "output_type": "execute_result"
    }
   ],
   "source": [
    "set_1"
   ]
  },
  {
   "cell_type": "code",
   "execution_count": 133,
   "id": "a6395b1a-ee96-4251-ad21-517a90c785df",
   "metadata": {},
   "outputs": [
    {
     "ename": "TypeError",
     "evalue": "unsupported operand type(s) for +: 'set' and 'set'",
     "output_type": "error",
     "traceback": [
      "\u001b[1;31m---------------------------------------------------------------------------\u001b[0m",
      "\u001b[1;31mTypeError\u001b[0m                                 Traceback (most recent call last)",
      "Cell \u001b[1;32mIn[133], line 2\u001b[0m\n\u001b[0;32m      1\u001b[0m set_2\u001b[38;5;241m=\u001b[39m{\u001b[38;5;241m106\u001b[39m,\u001b[38;5;241m98\u001b[39m}\n\u001b[1;32m----> 2\u001b[0m set_1\u001b[38;5;241m+\u001b[39mset_2\n",
      "\u001b[1;31mTypeError\u001b[0m: unsupported operand type(s) for +: 'set' and 'set'"
     ]
    }
   ],
   "source": [
    "set_2={106,98}\n",
    "set_1+set_2"
   ]
  },
  {
   "cell_type": "code",
   "execution_count": 134,
   "id": "84c27207-ad77-45d1-b807-69c4963e487d",
   "metadata": {},
   "outputs": [
    {
     "data": {
      "text/plain": [
       "{106, 109, 27, 290, 33, 78, 98, 'apple', 'red'}"
      ]
     },
     "execution_count": 134,
     "metadata": {},
     "output_type": "execute_result"
    }
   ],
   "source": [
    "set_1.union(set_2)"
   ]
  },
  {
   "cell_type": "code",
   "execution_count": 135,
   "id": "5acdcf3b-d590-453c-8125-140aebd63759",
   "metadata": {},
   "outputs": [],
   "source": [
    "set_3={290,87}"
   ]
  },
  {
   "cell_type": "code",
   "execution_count": 136,
   "id": "dea4a33f-7068-4575-80a4-acdc03c9fe9d",
   "metadata": {},
   "outputs": [
    {
     "data": {
      "text/plain": [
       "{106, 109, 27, 290, 33, 78, 87, 98, 'apple', 'red'}"
      ]
     },
     "execution_count": 136,
     "metadata": {},
     "output_type": "execute_result"
    }
   ],
   "source": [
    "set_1.union(set_2,set_3)"
   ]
  },
  {
   "cell_type": "code",
   "execution_count": 137,
   "id": "a3c0f51b-419a-429b-af3a-aa7d69995031",
   "metadata": {},
   "outputs": [
    {
     "data": {
      "text/plain": [
       "{109, 27, 290, 33, 78, 'apple', 'red'}"
      ]
     },
     "execution_count": 137,
     "metadata": {},
     "output_type": "execute_result"
    }
   ],
   "source": [
    "#how to find common elements between sets:\n",
    "set_1"
   ]
  },
  {
   "cell_type": "code",
   "execution_count": 138,
   "id": "b4f3ab8a-cf27-42c9-b6e0-af4a092d0945",
   "metadata": {},
   "outputs": [
    {
     "data": {
      "text/plain": [
       "{98, 106}"
      ]
     },
     "execution_count": 138,
     "metadata": {},
     "output_type": "execute_result"
    }
   ],
   "source": [
    "set_2"
   ]
  },
  {
   "cell_type": "markdown",
   "id": "9bcca1cd-2790-44f0-9ee7-1a725e411e53",
   "metadata": {},
   "source": [
    "# Dict:"
   ]
  },
  {
   "cell_type": "code",
   "execution_count": 1,
   "id": "0116b386-7585-4d45-8e36-e027987206c0",
   "metadata": {},
   "outputs": [
    {
     "data": {
      "text/plain": [
       "dict"
      ]
     },
     "execution_count": 1,
     "metadata": {},
     "output_type": "execute_result"
    }
   ],
   "source": [
    "dict_emp={}\n",
    "type(dict_emp)"
   ]
  },
  {
   "cell_type": "code",
   "execution_count": 2,
   "id": "2ca737c5-6ec1-487e-94db-148005deaebc",
   "metadata": {},
   "outputs": [
    {
     "name": "stdout",
     "output_type": "stream",
     "text": [
      "{}\n"
     ]
    }
   ],
   "source": [
    "print(dict_emp)"
   ]
  },
  {
   "cell_type": "code",
   "execution_count": 3,
   "id": "325177ed-ab0b-47b5-b0e3-7ae03fd7968a",
   "metadata": {},
   "outputs": [
    {
     "data": {
      "text/plain": [
       "3"
      ]
     },
     "execution_count": 3,
     "metadata": {},
     "output_type": "execute_result"
    }
   ],
   "source": [
    "dict_1={\"name\":\"Python\",\"age\":\"25\",\"subject\":\"programming\"}\n",
    "len(dict_1)"
   ]
  },
  {
   "cell_type": "code",
   "execution_count": 4,
   "id": "df7ebf9b-68cd-4d13-b66d-56a89ff3feb2",
   "metadata": {},
   "outputs": [
    {
     "data": {
      "text/plain": [
       "'25'"
      ]
     },
     "execution_count": 4,
     "metadata": {},
     "output_type": "execute_result"
    }
   ],
   "source": [
    "dict_1[\"age\"]"
   ]
  },
  {
   "cell_type": "code",
   "execution_count": 5,
   "id": "15f30037-98af-4e73-9942-24031859a0c4",
   "metadata": {},
   "outputs": [],
   "source": [
    "#adding new element or kep value pair in the dict.\n",
    "dict_1[\"hobby\"]=\"unknown\""
   ]
  },
  {
   "cell_type": "code",
   "execution_count": 6,
   "id": "237821f6-3b12-4e30-ba1c-1c5b92bf1f18",
   "metadata": {},
   "outputs": [
    {
     "name": "stdout",
     "output_type": "stream",
     "text": [
      "{'name': 'Python', 'age': '25', 'subject': 'programming', 'hobby': 'unknown'}\n"
     ]
    }
   ],
   "source": [
    "print(dict_1)"
   ]
  },
  {
   "cell_type": "code",
   "execution_count": 7,
   "id": "2fee6d8f-34f0-40e6-86f5-97abd1afe210",
   "metadata": {},
   "outputs": [],
   "source": [
    "#how to modify the values with help of keys.\n",
    "dict_1[\"age\"]=35"
   ]
  },
  {
   "cell_type": "code",
   "execution_count": 8,
   "id": "a742be64-abd5-44ca-b083-6a8e169f70b8",
   "metadata": {},
   "outputs": [
    {
     "name": "stdout",
     "output_type": "stream",
     "text": [
      "{'name': 'Python', 'age': 35, 'subject': 'programming', 'hobby': 'unknown'}\n"
     ]
    }
   ],
   "source": [
    "print(dict_1)"
   ]
  },
  {
   "cell_type": "code",
   "execution_count": 9,
   "id": "0b9136a2-a3ea-49a1-95b7-218041f35802",
   "metadata": {},
   "outputs": [
    {
     "ename": "TypeError",
     "evalue": "unhashable type: 'list'",
     "output_type": "error",
     "traceback": [
      "\u001b[1;31m---------------------------------------------------------------------------\u001b[0m",
      "\u001b[1;31mTypeError\u001b[0m                                 Traceback (most recent call last)",
      "Cell \u001b[1;32mIn[9], line 1\u001b[0m\n\u001b[1;32m----> 1\u001b[0m dict_2\u001b[38;5;241m=\u001b[39m{\u001b[38;5;124m\"\u001b[39m\u001b[38;5;124mxyx\u001b[39m\u001b[38;5;124m\"\u001b[39m:\u001b[38;5;124m\"\u001b[39m\u001b[38;5;124m50\u001b[39m\u001b[38;5;124m\"\u001b[39m,(\u001b[38;5;241m10\u001b[39m,\u001b[38;5;241m20\u001b[39m):\u001b[38;5;124m\"\u001b[39m\u001b[38;5;124mabc\u001b[39m\u001b[38;5;124m\"\u001b[39m,[\u001b[38;5;241m10\u001b[39m,\u001b[38;5;241m20\u001b[39m,\u001b[38;5;241m30\u001b[39m]:\u001b[38;5;124m\"\u001b[39m\u001b[38;5;124mmno\u001b[39m\u001b[38;5;124m\"\u001b[39m}\n",
      "\u001b[1;31mTypeError\u001b[0m: unhashable type: 'list'"
     ]
    }
   ],
   "source": [
    "dict_2={\"xyx\":\"50\",(10,20):\"abc\",[10,20,30]:\"mno\"}"
   ]
  },
  {
   "cell_type": "code",
   "execution_count": 10,
   "id": "aedb0e1d-2696-42e1-ac69-01d9a8570f01",
   "metadata": {},
   "outputs": [],
   "source": [
    "dict_1[\"subject\"]=\"not known\""
   ]
  },
  {
   "cell_type": "code",
   "execution_count": 11,
   "id": "1a2b4650-646d-4935-95b8-433878f3f201",
   "metadata": {},
   "outputs": [
    {
     "data": {
      "text/plain": [
       "{'name': 'Python', 'age': 35, 'subject': 'not known', 'hobby': 'unknown'}"
      ]
     },
     "execution_count": 11,
     "metadata": {},
     "output_type": "execute_result"
    }
   ],
   "source": [
    "dict_1"
   ]
  },
  {
   "cell_type": "code",
   "execution_count": 12,
   "id": "d9c88a87-ec7b-457e-9a97-131be237d4ee",
   "metadata": {},
   "outputs": [
    {
     "data": {
      "text/plain": [
       "{'name': 'Python', 'age': 35, 'subject': 'unknown', 'hobby': 'unknown'}"
      ]
     },
     "execution_count": 12,
     "metadata": {},
     "output_type": "execute_result"
    }
   ],
   "source": [
    "dict_1[\"subject\"]=\"unknown\"\n",
    "dict_1"
   ]
  },
  {
   "cell_type": "code",
   "execution_count": 13,
   "id": "698560f3-3cff-431b-869d-5da18613f5ad",
   "metadata": {},
   "outputs": [
    {
     "data": {
      "text/plain": [
       "{'name': 'java', 'age': 35, 'subject': 'unknown', 'hobby': 'unknown'}"
      ]
     },
     "execution_count": 13,
     "metadata": {},
     "output_type": "execute_result"
    }
   ],
   "source": [
    "dict_1[\"name\"]=\"java\"\n",
    "dict_1"
   ]
  },
  {
   "cell_type": "code",
   "execution_count": 14,
   "id": "46e91f28-3cd9-461f-b7ce-228cb72e4575",
   "metadata": {},
   "outputs": [
    {
     "name": "stdout",
     "output_type": "stream",
     "text": [
      "Help on class dict in module builtins:\n",
      "\n",
      "class dict(object)\n",
      " |  dict() -> new empty dictionary\n",
      " |  dict(mapping) -> new dictionary initialized from a mapping object's\n",
      " |      (key, value) pairs\n",
      " |  dict(iterable) -> new dictionary initialized as if via:\n",
      " |      d = {}\n",
      " |      for k, v in iterable:\n",
      " |          d[k] = v\n",
      " |  dict(**kwargs) -> new dictionary initialized with the name=value pairs\n",
      " |      in the keyword argument list.  For example:  dict(one=1, two=2)\n",
      " |  \n",
      " |  Built-in subclasses:\n",
      " |      StgDict\n",
      " |  \n",
      " |  Methods defined here:\n",
      " |  \n",
      " |  __contains__(self, key, /)\n",
      " |      True if the dictionary has the specified key, else False.\n",
      " |  \n",
      " |  __delitem__(self, key, /)\n",
      " |      Delete self[key].\n",
      " |  \n",
      " |  __eq__(self, value, /)\n",
      " |      Return self==value.\n",
      " |  \n",
      " |  __ge__(self, value, /)\n",
      " |      Return self>=value.\n",
      " |  \n",
      " |  __getattribute__(self, name, /)\n",
      " |      Return getattr(self, name).\n",
      " |  \n",
      " |  __getitem__(...)\n",
      " |      x.__getitem__(y) <==> x[y]\n",
      " |  \n",
      " |  __gt__(self, value, /)\n",
      " |      Return self>value.\n",
      " |  \n",
      " |  __init__(self, /, *args, **kwargs)\n",
      " |      Initialize self.  See help(type(self)) for accurate signature.\n",
      " |  \n",
      " |  __ior__(self, value, /)\n",
      " |      Return self|=value.\n",
      " |  \n",
      " |  __iter__(self, /)\n",
      " |      Implement iter(self).\n",
      " |  \n",
      " |  __le__(self, value, /)\n",
      " |      Return self<=value.\n",
      " |  \n",
      " |  __len__(self, /)\n",
      " |      Return len(self).\n",
      " |  \n",
      " |  __lt__(self, value, /)\n",
      " |      Return self<value.\n",
      " |  \n",
      " |  __ne__(self, value, /)\n",
      " |      Return self!=value.\n",
      " |  \n",
      " |  __or__(self, value, /)\n",
      " |      Return self|value.\n",
      " |  \n",
      " |  __repr__(self, /)\n",
      " |      Return repr(self).\n",
      " |  \n",
      " |  __reversed__(self, /)\n",
      " |      Return a reverse iterator over the dict keys.\n",
      " |  \n",
      " |  __ror__(self, value, /)\n",
      " |      Return value|self.\n",
      " |  \n",
      " |  __setitem__(self, key, value, /)\n",
      " |      Set self[key] to value.\n",
      " |  \n",
      " |  __sizeof__(...)\n",
      " |      D.__sizeof__() -> size of D in memory, in bytes\n",
      " |  \n",
      " |  clear(...)\n",
      " |      D.clear() -> None.  Remove all items from D.\n",
      " |  \n",
      " |  copy(...)\n",
      " |      D.copy() -> a shallow copy of D\n",
      " |  \n",
      " |  get(self, key, default=None, /)\n",
      " |      Return the value for key if key is in the dictionary, else default.\n",
      " |  \n",
      " |  items(...)\n",
      " |      D.items() -> a set-like object providing a view on D's items\n",
      " |  \n",
      " |  keys(...)\n",
      " |      D.keys() -> a set-like object providing a view on D's keys\n",
      " |  \n",
      " |  pop(...)\n",
      " |      D.pop(k[,d]) -> v, remove specified key and return the corresponding value.\n",
      " |      \n",
      " |      If the key is not found, return the default if given; otherwise,\n",
      " |      raise a KeyError.\n",
      " |  \n",
      " |  popitem(self, /)\n",
      " |      Remove and return a (key, value) pair as a 2-tuple.\n",
      " |      \n",
      " |      Pairs are returned in LIFO (last-in, first-out) order.\n",
      " |      Raises KeyError if the dict is empty.\n",
      " |  \n",
      " |  setdefault(self, key, default=None, /)\n",
      " |      Insert key with a value of default if key is not in the dictionary.\n",
      " |      \n",
      " |      Return the value for key if key is in the dictionary, else default.\n",
      " |  \n",
      " |  update(...)\n",
      " |      D.update([E, ]**F) -> None.  Update D from dict/iterable E and F.\n",
      " |      If E is present and has a .keys() method, then does:  for k in E: D[k] = E[k]\n",
      " |      If E is present and lacks a .keys() method, then does:  for k, v in E: D[k] = v\n",
      " |      In either case, this is followed by: for k in F:  D[k] = F[k]\n",
      " |  \n",
      " |  values(...)\n",
      " |      D.values() -> an object providing a view on D's values\n",
      " |  \n",
      " |  ----------------------------------------------------------------------\n",
      " |  Class methods defined here:\n",
      " |  \n",
      " |  __class_getitem__(...) from builtins.type\n",
      " |      See PEP 585\n",
      " |  \n",
      " |  fromkeys(iterable, value=None, /) from builtins.type\n",
      " |      Create a new dictionary with keys from iterable and values set to value.\n",
      " |  \n",
      " |  ----------------------------------------------------------------------\n",
      " |  Static methods defined here:\n",
      " |  \n",
      " |  __new__(*args, **kwargs) from builtins.type\n",
      " |      Create and return a new object.  See help(type) for accurate signature.\n",
      " |  \n",
      " |  ----------------------------------------------------------------------\n",
      " |  Data and other attributes defined here:\n",
      " |  \n",
      " |  __hash__ = None\n",
      "\n"
     ]
    }
   ],
   "source": [
    "help(dict)"
   ]
  },
  {
   "cell_type": "code",
   "execution_count": 15,
   "id": "a6a34e42-8a9d-409d-8ec2-1ed330d1c612",
   "metadata": {},
   "outputs": [
    {
     "data": {
      "text/plain": [
       "{'name': 'java', 'age': 35, 'subject': 'unknown', 'hobby': 'unknown'}"
      ]
     },
     "execution_count": 15,
     "metadata": {},
     "output_type": "execute_result"
    }
   ],
   "source": [
    "dict_1"
   ]
  },
  {
   "cell_type": "code",
   "execution_count": 17,
   "id": "75722577-7a83-461d-8770-d4266cf681d5",
   "metadata": {},
   "outputs": [
    {
     "data": {
      "text/plain": [
       "'unknown'"
      ]
     },
     "execution_count": 17,
     "metadata": {},
     "output_type": "execute_result"
    }
   ],
   "source": [
    "dict_1.pop(\"subject\")"
   ]
  },
  {
   "cell_type": "code",
   "execution_count": 18,
   "id": "20ee2719-f66d-49f8-b4e1-1bdea65e25ef",
   "metadata": {},
   "outputs": [
    {
     "data": {
      "text/plain": [
       "{'name': 'java', 'age': 35, 'hobby': 'unknown'}"
      ]
     },
     "execution_count": 18,
     "metadata": {},
     "output_type": "execute_result"
    }
   ],
   "source": [
    "dict_1"
   ]
  },
  {
   "cell_type": "code",
   "execution_count": 19,
   "id": "399d471a-8cda-4436-ad1d-21c9c0f4f1f8",
   "metadata": {},
   "outputs": [
    {
     "data": {
      "text/plain": [
       "dict_keys(['name', 'age', 'hobby'])"
      ]
     },
     "execution_count": 19,
     "metadata": {},
     "output_type": "execute_result"
    }
   ],
   "source": [
    "#only keys from dict.\n",
    "dict_1.keys()"
   ]
  },
  {
   "cell_type": "code",
   "execution_count": 20,
   "id": "56669159-3b10-4fdf-a2e9-4fbbd0f9fb3c",
   "metadata": {},
   "outputs": [
    {
     "data": {
      "text/plain": [
       "dict_values(['java', 35, 'unknown'])"
      ]
     },
     "execution_count": 20,
     "metadata": {},
     "output_type": "execute_result"
    }
   ],
   "source": [
    "dict_1.values()"
   ]
  },
  {
   "cell_type": "code",
   "execution_count": 21,
   "id": "d8e83628-c7d1-41c0-82b5-a3f1dee4c025",
   "metadata": {},
   "outputs": [
    {
     "data": {
      "text/plain": [
       "dict_items([('name', 'java'), ('age', 35), ('hobby', 'unknown')])"
      ]
     },
     "execution_count": 21,
     "metadata": {},
     "output_type": "execute_result"
    }
   ],
   "source": [
    "dict_1.items()"
   ]
  },
  {
   "cell_type": "code",
   "execution_count": null,
   "id": "e2a92e89-d931-4505-a168-6a4d137851de",
   "metadata": {},
   "outputs": [],
   "source": [
    "#judge the data type of the elements present inside dict_1.items()?\n"
   ]
  },
  {
   "cell_type": "code",
   "execution_count": null,
   "id": "18b89dc6-b16f-4079-8d54-a2d1fe5cfec6",
   "metadata": {},
   "outputs": [],
   "source": []
  },
  {
   "cell_type": "code",
   "execution_count": null,
   "id": "02a9fb52-6cec-4469-82af-0af62a1e79e3",
   "metadata": {},
   "outputs": [],
   "source": []
  },
  {
   "cell_type": "code",
   "execution_count": null,
   "id": "e181da63-c70c-4b0e-8926-7b25fd6fb05d",
   "metadata": {},
   "outputs": [],
   "source": []
  },
  {
   "cell_type": "code",
   "execution_count": null,
   "id": "7e2365a6-f455-4ccf-8353-f339c802f0e2",
   "metadata": {},
   "outputs": [],
   "source": []
  }
 ],
 "metadata": {
  "kernelspec": {
   "display_name": "Python 3 (ipykernel)",
   "language": "python",
   "name": "python3"
  },
  "language_info": {
   "codemirror_mode": {
    "name": "ipython",
    "version": 3
   },
   "file_extension": ".py",
   "mimetype": "text/x-python",
   "name": "python",
   "nbconvert_exporter": "python",
   "pygments_lexer": "ipython3",
   "version": "3.11.7"
  }
 },
 "nbformat": 4,
 "nbformat_minor": 5
}
