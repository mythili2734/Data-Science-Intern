{
 "cells": [
  {
   "cell_type": "code",
   "execution_count": null,
   "id": "887e8a93-0d58-4e80-b475-6375d1051c8c",
   "metadata": {},
   "outputs": [],
   "source": [
    "# Numpy:-\n",
    "--->Numpy is the fundamental pacakge for scientific computing in python.\n",
    "--->It helps us to create multidimensional array.\n",
    "--->There are 3types of arrays 1D, 2D, 3D.\n"
   ]
  },
  {
   "cell_type": "code",
   "execution_count": 1,
   "id": "68b6ec52-8d29-47b6-98e7-6d0fa5de510a",
   "metadata": {},
   "outputs": [],
   "source": [
    "import numpy as np"
   ]
  },
  {
   "cell_type": "code",
   "execution_count": 3,
   "id": "ee9185db-82f8-4e67-b941-6c92982b8bfe",
   "metadata": {},
   "outputs": [
    {
     "name": "stdout",
     "output_type": "stream",
     "text": [
      "Requirement already satisfied: numpy in c:\\users\\mythi\\anaconda3\\lib\\site-packages (1.26.4)\n"
     ]
    }
   ],
   "source": [
    "!pip install numpy"
   ]
  },
  {
   "cell_type": "code",
   "execution_count": 31,
   "id": "79f782aa-4620-4cc9-beac-9ab5d2558950",
   "metadata": {},
   "outputs": [
    {
     "name": "stdout",
     "output_type": "stream",
     "text": [
      "[10 20 30 40]\n"
     ]
    }
   ],
   "source": [
    "#creation of 1D array:\n",
    "ar_1=np.array([10,20,30,40])\n",
    "print(ar_1)"
   ]
  },
  {
   "cell_type": "code",
   "execution_count": 35,
   "id": "d702d527-09f9-44de-9d1e-4c358652eaa9",
   "metadata": {},
   "outputs": [
    {
     "data": {
      "text/plain": [
       "(4,)"
      ]
     },
     "execution_count": 35,
     "metadata": {},
     "output_type": "execute_result"
    }
   ],
   "source": [
    "ar_1.shape"
   ]
  },
  {
   "cell_type": "code",
   "execution_count": 15,
   "id": "232c227d-fa06-45b3-8b58-d654bdd97b42",
   "metadata": {},
   "outputs": [
    {
     "data": {
      "text/plain": [
       "dtype('int32')"
      ]
     },
     "execution_count": 15,
     "metadata": {},
     "output_type": "execute_result"
    }
   ],
   "source": [
    "ar_1.dtype"
   ]
  },
  {
   "cell_type": "code",
   "execution_count": 16,
   "id": "33916eb6-5bd0-4bce-baf7-991e7c77b3dd",
   "metadata": {},
   "outputs": [
    {
     "data": {
      "text/plain": [
       "numpy.ndarray"
      ]
     },
     "execution_count": 16,
     "metadata": {},
     "output_type": "execute_result"
    }
   ],
   "source": [
    "type(ar_1)"
   ]
  },
  {
   "cell_type": "code",
   "execution_count": 23,
   "id": "d9f6622c-28fe-4d0d-9b25-045100480f64",
   "metadata": {},
   "outputs": [
    {
     "name": "stdout",
     "output_type": "stream",
     "text": [
      "{40, 10, 20}\n"
     ]
    }
   ],
   "source": [
    "ar_2=np.array({10,20,40,40})\n",
    "print(ar_2)"
   ]
  },
  {
   "cell_type": "code",
   "execution_count": 24,
   "id": "6ef9305c-34b8-4df4-8c03-e668b4605a0a",
   "metadata": {},
   "outputs": [
    {
     "data": {
      "text/plain": [
       "numpy.ndarray"
      ]
     },
     "execution_count": 24,
     "metadata": {},
     "output_type": "execute_result"
    }
   ],
   "source": [
    "type(ar_2)"
   ]
  },
  {
   "cell_type": "code",
   "execution_count": 36,
   "id": "e6b9d841-712b-4071-a5c5-3d2df92ac6d7",
   "metadata": {},
   "outputs": [
    {
     "data": {
      "text/plain": [
       "()"
      ]
     },
     "execution_count": 36,
     "metadata": {},
     "output_type": "execute_result"
    }
   ],
   "source": [
    "ar_2.shape"
   ]
  },
  {
   "cell_type": "code",
   "execution_count": 25,
   "id": "f0c6e42a-c496-41f5-bcc9-1cf6e440cf82",
   "metadata": {},
   "outputs": [
    {
     "data": {
      "text/plain": [
       "0"
      ]
     },
     "execution_count": 25,
     "metadata": {},
     "output_type": "execute_result"
    }
   ],
   "source": [
    "ar_1.ndim"
   ]
  },
  {
   "cell_type": "code",
   "execution_count": 28,
   "id": "0aea7035-b760-4bf8-8af1-57d75a600a73",
   "metadata": {},
   "outputs": [
    {
     "name": "stdout",
     "output_type": "stream",
     "text": [
      "[[ 10 204  33]\n",
      " [ 30  40  98]\n",
      " [ 90  89  44]]\n"
     ]
    }
   ],
   "source": [
    "#2D array.\n",
    "\n",
    "two_arr=np.array([[10,204,33],[30,40,98],[90,89,44]])\n",
    "print(two_arr)"
   ]
  },
  {
   "cell_type": "code",
   "execution_count": 29,
   "id": "003886a0-9307-450b-863e-03ec0851d8af",
   "metadata": {},
   "outputs": [
    {
     "data": {
      "text/plain": [
       "2"
      ]
     },
     "execution_count": 29,
     "metadata": {},
     "output_type": "execute_result"
    }
   ],
   "source": [
    "two_arr.ndim"
   ]
  },
  {
   "cell_type": "code",
   "execution_count": 37,
   "id": "f58c322a-ef79-45d3-81a1-67a0dedc3883",
   "metadata": {},
   "outputs": [
    {
     "data": {
      "text/plain": [
       "(3, 3)"
      ]
     },
     "execution_count": 37,
     "metadata": {},
     "output_type": "execute_result"
    }
   ],
   "source": [
    "two_arr.shape"
   ]
  },
  {
   "cell_type": "markdown",
   "id": "24914267-ec4d-40bb-8fd7-50d873186cb8",
   "metadata": {},
   "source": [
    "# What is the differene between numpy array and python list?"
   ]
  },
  {
   "cell_type": "code",
   "execution_count": 38,
   "id": "05e6a22b-0b43-4e71-a432-1f3eee8c891b",
   "metadata": {},
   "outputs": [
    {
     "data": {
      "text/plain": [
       "array([10, 20, 30, 40])"
      ]
     },
     "execution_count": 38,
     "metadata": {},
     "output_type": "execute_result"
    }
   ],
   "source": [
    "ar_1"
   ]
  },
  {
   "cell_type": "code",
   "execution_count": 39,
   "id": "c1bcf9f5-8ca8-460c-bfd1-353dc7bf53f3",
   "metadata": {},
   "outputs": [
    {
     "name": "stdout",
     "output_type": "stream",
     "text": [
      "[10 20 30 40]\n"
     ]
    }
   ],
   "source": [
    "print(ar_1)"
   ]
  },
  {
   "cell_type": "code",
   "execution_count": 40,
   "id": "3e41f946-93ca-44e8-b5b1-3a2615706d8c",
   "metadata": {},
   "outputs": [
    {
     "data": {
      "text/plain": [
       "[10, 20, 30, 40]"
      ]
     },
     "execution_count": 40,
     "metadata": {},
     "output_type": "execute_result"
    }
   ],
   "source": [
    "list_1=[10,20,30,40]\n",
    "list_1"
   ]
  },
  {
   "cell_type": "code",
   "execution_count": 45,
   "id": "df37f8d4-6b2b-45e0-9d33-8616607b5fe1",
   "metadata": {},
   "outputs": [
    {
     "name": "stdout",
     "output_type": "stream",
     "text": [
      "[40, 60, 110, 130]\n"
     ]
    }
   ],
   "source": [
    "list_1=[10,20,30,40]\n",
    "list_2=[30,40,80,90]\n",
    "\n",
    "list_out=[]\n",
    "\n",
    "for i,j in zip(list_1,list_2):\n",
    "    list_out.append(i+j)\n",
    "print(list_out)\n",
    "\n"
   ]
  },
  {
   "cell_type": "code",
   "execution_count": 54,
   "id": "4ccaa540-7a37-4a63-a535-4253238a74e4",
   "metadata": {},
   "outputs": [
    {
     "name": "stdout",
     "output_type": "stream",
     "text": [
      "['30' '40' '50' '60' 'str']\n"
     ]
    },
    {
     "data": {
      "text/plain": [
       "dtype('<U11')"
      ]
     },
     "execution_count": 54,
     "metadata": {},
     "output_type": "execute_result"
    }
   ],
   "source": [
    "ar_3=np.array([30,40,50,60,\"str\"])\n",
    "print(ar_3)\n",
    "type(ar_3)\n",
    "ar_3.dtype"
   ]
  },
  {
   "cell_type": "code",
   "execution_count": 51,
   "id": "2919df75-bc7e-46b3-b82b-4092ab4af26e",
   "metadata": {},
   "outputs": [
    {
     "data": {
      "text/plain": [
       "array([ 40,  60,  80, 100])"
      ]
     },
     "execution_count": 51,
     "metadata": {},
     "output_type": "execute_result"
    }
   ],
   "source": [
    "ar_1+ar_3 # we can use +,-,*,%etc..."
   ]
  },
  {
   "cell_type": "code",
   "execution_count": 52,
   "id": "b49002b1-e135-4431-8db6-b159f91b850c",
   "metadata": {},
   "outputs": [
    {
     "data": {
      "text/plain": [
       "[10, 20, 30, 40, 30, 40, 80, 90]"
      ]
     },
     "execution_count": 52,
     "metadata": {},
     "output_type": "execute_result"
    }
   ],
   "source": [
    "list_1+list_2"
   ]
  },
  {
   "cell_type": "raw",
   "id": "7d448ccf-40d2-4d8f-879f-a38361111911",
   "metadata": {},
   "source": [
    "list consist any type of data as its element where as array elements belongs to the same data type.\n",
    "\n",
    "Numpy array are faster as commpared to that of list.\n",
    "\n",
    "list in python is sqivalent to array but reshaping and resizing is not allowed.\n",
    "\n",
    "numpy consumes less space for writing or storing the program as compared to that of list.\n"
   ]
  },
  {
   "cell_type": "markdown",
   "id": "258f43c4-9160-4502-bd4f-715a0817cdd5",
   "metadata": {},
   "source": [
    "# Indexing and Slicing:"
   ]
  },
  {
   "cell_type": "code",
   "execution_count": 55,
   "id": "67af6107-b8be-410e-9021-8842dba7d338",
   "metadata": {},
   "outputs": [
    {
     "data": {
      "text/plain": [
       "array([10, 20, 30, 40])"
      ]
     },
     "execution_count": 55,
     "metadata": {},
     "output_type": "execute_result"
    }
   ],
   "source": [
    "ar_1"
   ]
  },
  {
   "cell_type": "code",
   "execution_count": 60,
   "id": "1e029955-1c45-4b1f-a7c9-ad5f04e64a7a",
   "metadata": {},
   "outputs": [
    {
     "data": {
      "text/plain": [
       "30"
      ]
     },
     "execution_count": 60,
     "metadata": {},
     "output_type": "execute_result"
    }
   ],
   "source": [
    "ar_1[2]  #indexing"
   ]
  },
  {
   "cell_type": "code",
   "execution_count": 61,
   "id": "0b7f063e-9638-49a5-a743-eaac2ec8b3f7",
   "metadata": {},
   "outputs": [
    {
     "data": {
      "text/plain": [
       "40"
      ]
     },
     "execution_count": 61,
     "metadata": {},
     "output_type": "execute_result"
    }
   ],
   "source": [
    "ar_1[3]"
   ]
  },
  {
   "cell_type": "code",
   "execution_count": 62,
   "id": "cc9591b8-cb3d-4701-b8f7-aa8dd63ac0df",
   "metadata": {},
   "outputs": [
    {
     "data": {
      "text/plain": [
       "30"
      ]
     },
     "execution_count": 62,
     "metadata": {},
     "output_type": "execute_result"
    }
   ],
   "source": [
    "ar_1[-2]"
   ]
  },
  {
   "cell_type": "code",
   "execution_count": 64,
   "id": "bc0b75be-c051-4287-adbc-8d72605d8a10",
   "metadata": {},
   "outputs": [
    {
     "name": "stdout",
     "output_type": "stream",
     "text": [
      "[[ 10 204  33]\n",
      " [ 30  40  98]\n",
      " [ 90  89  44]]\n"
     ]
    }
   ],
   "source": [
    "print(two_arr)"
   ]
  },
  {
   "cell_type": "code",
   "execution_count": 66,
   "id": "12873f22-afe2-4531-b974-f747ee76fb12",
   "metadata": {},
   "outputs": [
    {
     "data": {
      "text/plain": [
       "0"
      ]
     },
     "execution_count": 66,
     "metadata": {},
     "output_type": "execute_result"
    }
   ],
   "source": [
    "x=two_arr[0][0]\n",
    "x.ndim"
   ]
  },
  {
   "cell_type": "code",
   "execution_count": 72,
   "id": "b2984175-46dd-4716-a142-077f5d137659",
   "metadata": {},
   "outputs": [
    {
     "data": {
      "text/plain": [
       "array([ 10, 204,  33])"
      ]
     },
     "execution_count": 72,
     "metadata": {},
     "output_type": "execute_result"
    }
   ],
   "source": [
    "two_arr[0,:]"
   ]
  },
  {
   "cell_type": "code",
   "execution_count": 73,
   "id": "916867fb-b42a-48ed-b6a3-d7507d57006b",
   "metadata": {},
   "outputs": [
    {
     "data": {
      "text/plain": [
       "array([[ 10, 204,  33]])"
      ]
     },
     "execution_count": 73,
     "metadata": {},
     "output_type": "execute_result"
    }
   ],
   "source": [
    "two_arr[0:1,:]"
   ]
  },
  {
   "cell_type": "markdown",
   "id": "1b746ec0-2ebe-42a1-a2e5-46d39046dd94",
   "metadata": {},
   "source": [
    "# Creation of different types of arrays:"
   ]
  },
  {
   "cell_type": "code",
   "execution_count": 4,
   "id": "6b5bd70f-d4dd-4b1d-9868-4a07fda54794",
   "metadata": {},
   "outputs": [
    {
     "name": "stdout",
     "output_type": "stream",
     "text": [
      "[1. 2. 3. 4. 5.]\n"
     ]
    }
   ],
   "source": [
    "ar_num=np.array([1,2,3,4,5],dtype=\"float\")\n",
    "print(ar_num)"
   ]
  },
  {
   "cell_type": "code",
   "execution_count": 5,
   "id": "b3e08b18-9fe4-41d6-9e45-e2e86ecc1a58",
   "metadata": {},
   "outputs": [
    {
     "name": "stdout",
     "output_type": "stream",
     "text": [
      "[1.+0.j 2.+0.j 3.+0.j 4.+0.j 5.+0.j]\n"
     ]
    }
   ],
   "source": [
    "ar_com=np.array([1,2,3,4,5],dtype=\"complex\")\n",
    "print(ar_com)"
   ]
  },
  {
   "cell_type": "code",
   "execution_count": 13,
   "id": "ed257415-2a49-498a-b5af-764fee0c4bdb",
   "metadata": {},
   "outputs": [
    {
     "name": "stdout",
     "output_type": "stream",
     "text": [
      "[ 1  2  3  4  5  6  7  8  9 10]\n"
     ]
    }
   ],
   "source": [
    "#Creating array with the help of arrange method.\n",
    "#1D array\n",
    "\n",
    "x=np.arange(1,11)\n",
    "print(x)"
   ]
  },
  {
   "cell_type": "code",
   "execution_count": 12,
   "id": "20d30e5a-2b68-4c5f-b974-17f537c2d17b",
   "metadata": {},
   "outputs": [
    {
     "name": "stdout",
     "output_type": "stream",
     "text": [
      "[ 2  4  6  8 10 12 14 16 18 20]\n"
     ]
    }
   ],
   "source": [
    "m=np.arange(2,21,2)\n",
    "print(m)"
   ]
  },
  {
   "cell_type": "code",
   "execution_count": 18,
   "id": "9612dc2d-8a33-47cf-85ca-2eaab475ca92",
   "metadata": {},
   "outputs": [
    {
     "data": {
      "text/plain": [
       "array([[31],\n",
       "       [34],\n",
       "       [37],\n",
       "       [40],\n",
       "       [43],\n",
       "       [46],\n",
       "       [49]])"
      ]
     },
     "execution_count": 18,
     "metadata": {},
     "output_type": "execute_result"
    }
   ],
   "source": [
    "#2D array \n",
    "#with reshape\n",
    "\n",
    "np.arange(31,52,3).reshape(7,1)"
   ]
  },
  {
   "cell_type": "code",
   "execution_count": 22,
   "id": "213f9908-14e0-4231-b2f6-3d281b46a988",
   "metadata": {},
   "outputs": [
    {
     "data": {
      "text/plain": [
       "array([[1, 2],\n",
       "       [3, 4],\n",
       "       [5, 6]])"
      ]
     },
     "execution_count": 22,
     "metadata": {},
     "output_type": "execute_result"
    }
   ],
   "source": [
    "np.arange(1,7).reshape(3,-1) # 2*3,3*2,6*1,1*6"
   ]
  },
  {
   "cell_type": "code",
   "execution_count": 24,
   "id": "5f996340-b382-4588-a5bd-b83f7d3f14c2",
   "metadata": {},
   "outputs": [
    {
     "data": {
      "text/plain": [
       "array([[1, 2, 3, 4, 5, 6]])"
      ]
     },
     "execution_count": 24,
     "metadata": {},
     "output_type": "execute_result"
    }
   ],
   "source": [
    "np.arange(1,7).reshape(-1,6)"
   ]
  },
  {
   "cell_type": "code",
   "execution_count": 27,
   "id": "93f349e0-5f59-4d75-abeb-2f1dd8baec5a",
   "metadata": {},
   "outputs": [
    {
     "data": {
      "text/plain": [
       "array([0, 0, 0, 0, 0, 0, 0, 0, 0, 0])"
      ]
     },
     "execution_count": 27,
     "metadata": {},
     "output_type": "execute_result"
    }
   ],
   "source": [
    "#array of zeros\n",
    "np.zeros((10),dtype=\"int\")"
   ]
  },
  {
   "cell_type": "code",
   "execution_count": 26,
   "id": "eac2c549-6a55-4231-b577-c8fcda9ce423",
   "metadata": {},
   "outputs": [
    {
     "data": {
      "text/plain": [
       "array([[0., 0., 0.],\n",
       "       [0., 0., 0.],\n",
       "       [0., 0., 0.],\n",
       "       [0., 0., 0.],\n",
       "       [0., 0., 0.],\n",
       "       [0., 0., 0.],\n",
       "       [0., 0., 0.],\n",
       "       [0., 0., 0.],\n",
       "       [0., 0., 0.],\n",
       "       [0., 0., 0.]])"
      ]
     },
     "execution_count": 26,
     "metadata": {},
     "output_type": "execute_result"
    }
   ],
   "source": [
    "np.zeros((10,3))"
   ]
  },
  {
   "cell_type": "code",
   "execution_count": 31,
   "id": "9d93085c-329d-4508-ba9e-d4160ba3f482",
   "metadata": {},
   "outputs": [
    {
     "data": {
      "text/plain": [
       "array([[1, 1, 1, 1, 1, 1, 1, 1, 1, 1],\n",
       "       [1, 1, 1, 1, 1, 1, 1, 1, 1, 1],\n",
       "       [1, 1, 1, 1, 1, 1, 1, 1, 1, 1],\n",
       "       [1, 1, 1, 1, 1, 1, 1, 1, 1, 1],\n",
       "       [1, 1, 1, 1, 1, 1, 1, 1, 1, 1],\n",
       "       [1, 1, 1, 1, 1, 1, 1, 1, 1, 1],\n",
       "       [1, 1, 1, 1, 1, 1, 1, 1, 1, 1],\n",
       "       [1, 1, 1, 1, 1, 1, 1, 1, 1, 1],\n",
       "       [1, 1, 1, 1, 1, 1, 1, 1, 1, 1],\n",
       "       [1, 1, 1, 1, 1, 1, 1, 1, 1, 1]])"
      ]
     },
     "execution_count": 31,
     "metadata": {},
     "output_type": "execute_result"
    }
   ],
   "source": [
    "#array of ones\n",
    "np.ones((10,10),dtype=\"int\")"
   ]
  },
  {
   "cell_type": "code",
   "execution_count": 39,
   "id": "26933c73-6a57-472b-9e7a-00ce7d77dabe",
   "metadata": {},
   "outputs": [
    {
     "data": {
      "text/plain": [
       "array([0.29792282, 0.63558562, 0.15566847, 0.892412  , 0.17730721,\n",
       "       0.93593029, 0.82259156, 0.32409296, 0.59428228, 0.04913548])"
      ]
     },
     "execution_count": 39,
     "metadata": {},
     "output_type": "execute_result"
    }
   ],
   "source": [
    "#array of random elements\n",
    "np.random.random(10)"
   ]
  },
  {
   "cell_type": "code",
   "execution_count": 43,
   "id": "e651f43e-47b2-469a-9d45-865900c3cb73",
   "metadata": {},
   "outputs": [],
   "source": [
    "np.random.seed(3)\n",
    "\n"
   ]
  },
  {
   "cell_type": "code",
   "execution_count": 45,
   "id": "8326aeee-a42b-48b2-9a7b-9a769901bcd5",
   "metadata": {},
   "outputs": [
    {
     "data": {
      "text/plain": [
       "array([[0.20541034, 0.20137871, 0.51403506, 0.08722937, 0.48358553],\n",
       "       [0.36217621, 0.70768662, 0.74674622, 0.69109292, 0.68918041],\n",
       "       [0.37360012, 0.6681348 , 0.33984866, 0.57279387, 0.32580716],\n",
       "       [0.44514505, 0.06152893, 0.24267542, 0.97160261, 0.2305842 ],\n",
       "       [0.69147751, 0.65047686, 0.72393914, 0.47508861, 0.59666377],\n",
       "       [0.06696942, 0.07256214, 0.19897603, 0.151861  , 0.10010434],\n",
       "       [0.12929386, 0.55327773, 0.18781482, 0.95210124, 0.68161178],\n",
       "       [0.54101967, 0.7071806 , 0.26388667, 0.92672568, 0.83919306],\n",
       "       [0.7263195 , 0.48023996, 0.84210319, 0.74475232, 0.66032591],\n",
       "       [0.91397527, 0.63366556, 0.36594058, 0.55284457, 0.19638058]])"
      ]
     },
     "execution_count": 45,
     "metadata": {},
     "output_type": "execute_result"
    }
   ],
   "source": [
    "np.random.random((10,5))"
   ]
  },
  {
   "cell_type": "code",
   "execution_count": 53,
   "id": "00ec7590-2197-4ebf-b76e-b858756b7101",
   "metadata": {},
   "outputs": [
    {
     "data": {
      "text/plain": [
       "array([[16, 40, 90, 97, 54, 77, 94, 39, 16, 94],\n",
       "       [94, 64,  9, 90, 98,  5, 61, 99, 50, 76],\n",
       "       [26, 39, 34, 47, 12, 99, 35, 81, 80, 44],\n",
       "       [62, 54, 49, 26, 99, 46, 76, 97, 39, 20],\n",
       "       [27, 50, 41, 45, 95, 57, 14, 24, 74, 59]])"
      ]
     },
     "execution_count": 53,
     "metadata": {},
     "output_type": "execute_result"
    }
   ],
   "source": [
    "np.random.randint(5,100,(5,10))"
   ]
  },
  {
   "cell_type": "markdown",
   "id": "20f5ed67-054e-448b-ba52-cd59ca9f7409",
   "metadata": {},
   "source": [
    "# Array attributes:"
   ]
  },
  {
   "cell_type": "code",
   "execution_count": 26,
   "id": "890c998b-573e-43db-ab8b-3f98111f6ddc",
   "metadata": {},
   "outputs": [],
   "source": [
    "a1=np.arange(10)\n",
    "a2=np.arange(12,dtype=\"float\").reshape(3,4)\n",
    "a3=np.arange(8).reshape(2,2,2)\n"
   ]
  },
  {
   "cell_type": "code",
   "execution_count": 27,
   "id": "3eb826ae-4bff-43bb-bb6a-670a345c9a10",
   "metadata": {},
   "outputs": [
    {
     "data": {
      "text/plain": [
       "array([0, 1, 2, 3, 4, 5, 6, 7, 8, 9])"
      ]
     },
     "execution_count": 27,
     "metadata": {},
     "output_type": "execute_result"
    }
   ],
   "source": [
    "a1"
   ]
  },
  {
   "cell_type": "code",
   "execution_count": 28,
   "id": "d28a2ab8-a8e4-4660-8e80-1100554fe836",
   "metadata": {},
   "outputs": [
    {
     "data": {
      "text/plain": [
       "array([[ 0.,  1.,  2.,  3.],\n",
       "       [ 4.,  5.,  6.,  7.],\n",
       "       [ 8.,  9., 10., 11.]])"
      ]
     },
     "execution_count": 28,
     "metadata": {},
     "output_type": "execute_result"
    }
   ],
   "source": [
    "a2"
   ]
  },
  {
   "cell_type": "code",
   "execution_count": 29,
   "id": "1b6b0529-1895-44de-bba2-261f43434a53",
   "metadata": {},
   "outputs": [
    {
     "data": {
      "text/plain": [
       "array([[[0, 1],\n",
       "        [2, 3]],\n",
       "\n",
       "       [[4, 5],\n",
       "        [6, 7]]])"
      ]
     },
     "execution_count": 29,
     "metadata": {},
     "output_type": "execute_result"
    }
   ],
   "source": [
    "a3"
   ]
  },
  {
   "cell_type": "code",
   "execution_count": 30,
   "id": "19df6a61-2728-4500-bad0-fbb0a0f0ffb3",
   "metadata": {},
   "outputs": [
    {
     "data": {
      "text/plain": [
       "10"
      ]
     },
     "execution_count": 30,
     "metadata": {},
     "output_type": "execute_result"
    }
   ],
   "source": [
    "a1.size"
   ]
  },
  {
   "cell_type": "code",
   "execution_count": 31,
   "id": "f442224f-02b2-46c3-ae98-26d0167a2d61",
   "metadata": {},
   "outputs": [
    {
     "data": {
      "text/plain": [
       "(3, 4)"
      ]
     },
     "execution_count": 31,
     "metadata": {},
     "output_type": "execute_result"
    }
   ],
   "source": [
    "a2.shape"
   ]
  },
  {
   "cell_type": "code",
   "execution_count": 32,
   "id": "0ec4d1e6-09b7-4f68-90e7-22fcc3b6fc0a",
   "metadata": {},
   "outputs": [
    {
     "data": {
      "text/plain": [
       "(2, 2, 2)"
      ]
     },
     "execution_count": 32,
     "metadata": {},
     "output_type": "execute_result"
    }
   ],
   "source": [
    "a3.shape"
   ]
  },
  {
   "cell_type": "code",
   "execution_count": 38,
   "id": "a8af1d04-ed2c-4e73-8e63-f584fe96920a",
   "metadata": {},
   "outputs": [
    {
     "name": "stdout",
     "output_type": "stream",
     "text": [
      "[[ 3  4  5  6]\n",
      " [ 7  8  9 10]\n",
      " [11 12 13 14]]\n"
     ]
    }
   ],
   "source": [
    "#changing the datatype of pre-existing array\n",
    "\n",
    "a2=a2.astype(np.int32)\n",
    "print(a2)"
   ]
  },
  {
   "cell_type": "code",
   "execution_count": 34,
   "id": "ced4b76d-70f2-48b8-8ee2-058a48aeb227",
   "metadata": {},
   "outputs": [
    {
     "data": {
      "text/plain": [
       "array([[ 3,  4,  5,  6],\n",
       "       [ 7,  8,  9, 10],\n",
       "       [11, 12, 13, 14]])"
      ]
     },
     "execution_count": 34,
     "metadata": {},
     "output_type": "execute_result"
    }
   ],
   "source": [
    "a2=a2+3\n",
    "a2"
   ]
  },
  {
   "cell_type": "code",
   "execution_count": 35,
   "id": "4d97fc87-a025-491c-8a63-25c86a9984f3",
   "metadata": {},
   "outputs": [
    {
     "data": {
      "text/plain": [
       "array([[False, False, False, False],\n",
       "       [False, False, False, False],\n",
       "       [False, False, False, False]])"
      ]
     },
     "execution_count": 35,
     "metadata": {},
     "output_type": "execute_result"
    }
   ],
   "source": [
    "a2>15"
   ]
  },
  {
   "cell_type": "code",
   "execution_count": 37,
   "id": "99110383-f266-406f-9030-5af7a39c31fa",
   "metadata": {},
   "outputs": [
    {
     "data": {
      "text/plain": [
       "array([[12, 13, 14, 15],\n",
       "       [16, 17, 18, 19],\n",
       "       [20, 21, 22, 23]])"
      ]
     },
     "execution_count": 37,
     "metadata": {},
     "output_type": "execute_result"
    }
   ],
   "source": [
    "a4=np.arange(12,24).reshape(3,4)\n",
    "a4"
   ]
  },
  {
   "cell_type": "code",
   "execution_count": 39,
   "id": "592c3220-e6ea-461c-8ce2-d9b27bf6298f",
   "metadata": {},
   "outputs": [
    {
     "data": {
      "text/plain": [
       "array([[ 3,  4,  5,  6],\n",
       "       [ 7,  8,  9, 10],\n",
       "       [11, 12, 13, 14]])"
      ]
     },
     "execution_count": 39,
     "metadata": {},
     "output_type": "execute_result"
    }
   ],
   "source": [
    "a2"
   ]
  },
  {
   "cell_type": "code",
   "execution_count": 40,
   "id": "65e401cd-c105-48a0-86a5-94355d2acd6c",
   "metadata": {},
   "outputs": [
    {
     "name": "stdout",
     "output_type": "stream",
     "text": [
      "[[15 17 19 21]\n",
      " [23 25 27 29]\n",
      " [31 33 35 37]]\n"
     ]
    }
   ],
   "source": [
    "print(a4+a2)"
   ]
  },
  {
   "cell_type": "code",
   "execution_count": 41,
   "id": "f06a72da-e262-49be-82fa-315a84dc352c",
   "metadata": {},
   "outputs": [
    {
     "name": "stdout",
     "output_type": "stream",
     "text": [
      "[[9 9 9 9]\n",
      " [9 9 9 9]\n",
      " [9 9 9 9]]\n"
     ]
    }
   ],
   "source": [
    "print(a4-a2)"
   ]
  },
  {
   "cell_type": "markdown",
   "id": "05538a62-f590-4c78-aca0-acf04de85ca5",
   "metadata": {},
   "source": [
    "# Array functions:"
   ]
  },
  {
   "cell_type": "code",
   "execution_count": 43,
   "id": "d4c7dff6-00b0-4fbb-b7cf-6ceb45fd568d",
   "metadata": {},
   "outputs": [
    {
     "name": "stdout",
     "output_type": "stream",
     "text": [
      "639472640\n"
     ]
    }
   ],
   "source": [
    "from numpy.core.fromnumeric import prod\n",
    "\n",
    "print(np.prod(a2))"
   ]
  },
  {
   "cell_type": "code",
   "execution_count": 44,
   "id": "a04bcd9c-3bf2-4e25-96e6-2e5daa0d5780",
   "metadata": {},
   "outputs": [
    {
     "data": {
      "text/plain": [
       "816826368"
      ]
     },
     "execution_count": 44,
     "metadata": {},
     "output_type": "execute_result"
    }
   ],
   "source": [
    "np.prod(a4)"
   ]
  },
  {
   "cell_type": "code",
   "execution_count": 45,
   "id": "118fb1ab-a95b-4ec1-9bbb-facc073d3621",
   "metadata": {},
   "outputs": [
    {
     "data": {
      "text/plain": [
       "array([[ 3,  4,  5,  6],\n",
       "       [ 7,  8,  9, 10],\n",
       "       [11, 12, 13, 14]])"
      ]
     },
     "execution_count": 45,
     "metadata": {},
     "output_type": "execute_result"
    }
   ],
   "source": [
    "a2"
   ]
  },
  {
   "cell_type": "code",
   "execution_count": 46,
   "id": "0bba52f8-6c6a-4546-aa31-2b417b21a581",
   "metadata": {},
   "outputs": [
    {
     "data": {
      "text/plain": [
       "3"
      ]
     },
     "execution_count": 46,
     "metadata": {},
     "output_type": "execute_result"
    }
   ],
   "source": [
    "np.min(a2)"
   ]
  },
  {
   "cell_type": "code",
   "execution_count": 47,
   "id": "0f4d147d-86b2-4707-8d86-99147237c965",
   "metadata": {},
   "outputs": [
    {
     "data": {
      "text/plain": [
       "14"
      ]
     },
     "execution_count": 47,
     "metadata": {},
     "output_type": "execute_result"
    }
   ],
   "source": [
    "np.max(a2)"
   ]
  },
  {
   "cell_type": "code",
   "execution_count": 48,
   "id": "31106820-97c6-4177-a313-17c6de8b87a3",
   "metadata": {},
   "outputs": [
    {
     "data": {
      "text/plain": [
       "102"
      ]
     },
     "execution_count": 48,
     "metadata": {},
     "output_type": "execute_result"
    }
   ],
   "source": [
    "np.sum(a2)"
   ]
  },
  {
   "cell_type": "code",
   "execution_count": 49,
   "id": "49dbd750-876c-427f-a524-221f80c57c5d",
   "metadata": {},
   "outputs": [
    {
     "name": "stdout",
     "output_type": "stream",
     "text": [
      "8.5\n"
     ]
    }
   ],
   "source": [
    "print(np.mean(a2))"
   ]
  },
  {
   "cell_type": "code",
   "execution_count": 51,
   "id": "ee63a54d-e94e-4e36-af73-385109ec1acb",
   "metadata": {},
   "outputs": [
    {
     "data": {
      "text/plain": [
       "array([ 4.5,  8.5, 12.5])"
      ]
     },
     "execution_count": 51,
     "metadata": {},
     "output_type": "execute_result"
    }
   ],
   "source": [
    "#finding mean across the rows\n",
    "np.mean(a2,axis=1)   #rows=1, columns=0"
   ]
  },
  {
   "cell_type": "code",
   "execution_count": 52,
   "id": "2f2127ad-1065-4eca-84ec-109c11deaf56",
   "metadata": {},
   "outputs": [
    {
     "data": {
      "text/plain": [
       "array([ 7.,  8.,  9., 10.])"
      ]
     },
     "execution_count": 52,
     "metadata": {},
     "output_type": "execute_result"
    }
   ],
   "source": [
    "np.mean(a2,axis=0)"
   ]
  },
  {
   "cell_type": "code",
   "execution_count": 54,
   "id": "4723735e-a7e2-44b6-ad11-bb4622be25d0",
   "metadata": {},
   "outputs": [
    {
     "data": {
      "text/plain": [
       "3.452052529534663"
      ]
     },
     "execution_count": 54,
     "metadata": {},
     "output_type": "execute_result"
    }
   ],
   "source": [
    "np.std(a2)  #standrd devation"
   ]
  },
  {
   "cell_type": "code",
   "execution_count": null,
   "id": "f9b4481a-1918-4455-bedd-93d601b5dc70",
   "metadata": {},
   "outputs": [],
   "source": [
    "A measure of how much variation exists from the mean of a data "
   ]
  },
  {
   "cell_type": "code",
   "execution_count": 56,
   "id": "83c54f21-fbb8-461f-9421-3f71cd9f5efb",
   "metadata": {},
   "outputs": [
    {
     "data": {
      "text/plain": [
       "11.916666666666666"
      ]
     },
     "execution_count": 56,
     "metadata": {},
     "output_type": "execute_result"
    }
   ],
   "source": [
    "np.var(a2)  #variance "
   ]
  },
  {
   "cell_type": "code",
   "execution_count": 57,
   "id": "6082c5c9-6bb2-4fbf-ad0d-fc126b883c19",
   "metadata": {},
   "outputs": [
    {
     "data": {
      "text/plain": [
       "array([[ 3,  4,  5,  6],\n",
       "       [ 7,  8,  9, 10],\n",
       "       [11, 12, 13, 14]])"
      ]
     },
     "execution_count": 57,
     "metadata": {},
     "output_type": "execute_result"
    }
   ],
   "source": [
    "#dot product of two array\n",
    "\n",
    "a2"
   ]
  },
  {
   "cell_type": "code",
   "execution_count": 58,
   "id": "f5577b92-35e6-4843-ba08-d34edfb8fa6b",
   "metadata": {},
   "outputs": [
    {
     "data": {
      "text/plain": [
       "array([[12, 13, 14, 15],\n",
       "       [16, 17, 18, 19],\n",
       "       [20, 21, 22, 23]])"
      ]
     },
     "execution_count": 58,
     "metadata": {},
     "output_type": "execute_result"
    }
   ],
   "source": [
    "a4 "
   ]
  },
  {
   "cell_type": "code",
   "execution_count": 62,
   "id": "eb63d5ca-5b3a-4f19-8770-fb2b00cddee9",
   "metadata": {},
   "outputs": [],
   "source": [
    "mat=np.arange(12,24).reshape(4,3)"
   ]
  },
  {
   "cell_type": "code",
   "execution_count": 64,
   "id": "1c4b47d6-8fb6-4f1c-b48a-882519ddf4bd",
   "metadata": {},
   "outputs": [
    {
     "data": {
      "text/plain": [
       "array([[12, 13, 14],\n",
       "       [15, 16, 17],\n",
       "       [18, 19, 20],\n",
       "       [21, 22, 23]])"
      ]
     },
     "execution_count": 64,
     "metadata": {},
     "output_type": "execute_result"
    }
   ],
   "source": [
    "mat"
   ]
  },
  {
   "cell_type": "code",
   "execution_count": 65,
   "id": "6091b777-fc5e-40e1-9c2f-6e1d67d58d6e",
   "metadata": {},
   "outputs": [
    {
     "data": {
      "text/plain": [
       "array([[312, 330, 348],\n",
       "       [576, 610, 644],\n",
       "       [840, 890, 940]])"
      ]
     },
     "execution_count": 65,
     "metadata": {},
     "output_type": "execute_result"
    }
   ],
   "source": [
    "np.dot(a2,mat)"
   ]
  },
  {
   "cell_type": "code",
   "execution_count": 66,
   "id": "90f2096f-ed37-424e-b63f-bf76873377f3",
   "metadata": {},
   "outputs": [
    {
     "data": {
      "text/plain": [
       "array([[12, 13, 14],\n",
       "       [15, 16, 17],\n",
       "       [18, 19, 20],\n",
       "       [21, 22, 23]])"
      ]
     },
     "execution_count": 66,
     "metadata": {},
     "output_type": "execute_result"
    }
   ],
   "source": [
    "#how to iterate over matrix:\n",
    "\n",
    "mat"
   ]
  },
  {
   "cell_type": "code",
   "execution_count": 67,
   "id": "2c7d2f7c-2a24-47a6-80ea-c04a73129037",
   "metadata": {},
   "outputs": [
    {
     "name": "stdout",
     "output_type": "stream",
     "text": [
      "[12 13 14]\n",
      "[15 16 17]\n",
      "[18 19 20]\n",
      "[21 22 23]\n"
     ]
    }
   ],
   "source": [
    "for i in mat:\n",
    "    print(i)"
   ]
  },
  {
   "cell_type": "code",
   "execution_count": 68,
   "id": "65481f06-cf74-4ea2-9c72-b4fe667a15df",
   "metadata": {},
   "outputs": [
    {
     "name": "stdout",
     "output_type": "stream",
     "text": [
      "12\n",
      "13\n",
      "14\n",
      "15\n",
      "16\n",
      "17\n",
      "18\n",
      "19\n",
      "20\n",
      "21\n",
      "22\n",
      "23\n"
     ]
    }
   ],
   "source": [
    "for i in mat:\n",
    "    for j in i:\n",
    "        print(j)"
   ]
  },
  {
   "cell_type": "code",
   "execution_count": 69,
   "id": "ceb238e6-b44b-4d8b-84d0-c9f4306590ab",
   "metadata": {},
   "outputs": [
    {
     "name": "stdout",
     "output_type": "stream",
     "text": [
      "12\n",
      "13\n",
      "14\n",
      "15\n",
      "16\n",
      "17\n",
      "18\n",
      "19\n",
      "20\n",
      "21\n",
      "22\n",
      "23\n"
     ]
    }
   ],
   "source": [
    "for i in np.nditer(mat):\n",
    "    print(i)"
   ]
  },
  {
   "cell_type": "code",
   "execution_count": 70,
   "id": "0abb6f80-3d3a-432d-8915-5b5d4bfb6292",
   "metadata": {},
   "outputs": [
    {
     "data": {
      "text/plain": [
       "array([12, 13, 14, 15, 16, 17, 18, 19, 20, 21, 22, 23])"
      ]
     },
     "execution_count": 70,
     "metadata": {},
     "output_type": "execute_result"
    }
   ],
   "source": [
    "#conversion of 2D into 1D\n",
    "\n",
    "\n",
    "mat.ravel()\n",
    "\n"
   ]
  },
  {
   "cell_type": "code",
   "execution_count": null,
   "id": "da048627-98a4-4b87-8d95-e97634fd83ad",
   "metadata": {},
   "outputs": [],
   "source": [
    "#stacking and spliting."
   ]
  }
 ],
 "metadata": {
  "kernelspec": {
   "display_name": "Python 3 (ipykernel)",
   "language": "python",
   "name": "python3"
  },
  "language_info": {
   "codemirror_mode": {
    "name": "ipython",
    "version": 3
   },
   "file_extension": ".py",
   "mimetype": "text/x-python",
   "name": "python",
   "nbconvert_exporter": "python",
   "pygments_lexer": "ipython3",
   "version": "3.11.7"
  }
 },
 "nbformat": 4,
 "nbformat_minor": 5
}
